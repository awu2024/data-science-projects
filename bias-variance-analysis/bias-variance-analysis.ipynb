{
 "cells": [
  {
   "cell_type": "markdown",
   "id": "86517897-1fa5-4b8a-ada8-c5bc58eaff30",
   "metadata": {},
   "source": [
    "# Bias and Variance Analysis"
   ]
  },
  {
   "cell_type": "markdown",
   "id": "3b22e232-e91f-493a-ae29-6a911421d59b",
   "metadata": {},
   "source": [
    "### Problem 1"
   ]
  },
  {
   "cell_type": "markdown",
   "id": "563112d0-72dc-4010-b615-e19f3055497e",
   "metadata": {},
   "source": [
    "Consider a learning scenario where the goal is to learn the target function $f(x) = sin(\\pi x)$ for $-1 \\le x \\le +1$ from two points in the training sets. The two training points in $R^2$ have a uniform distribution between -1 and +1. You are to choose a model from the constant hypothesis set $y = b$ or linear hypothesis set $y = mx + b$ based on bias-variance analysis."
   ]
  },
  {
   "cell_type": "markdown",
   "id": "8e07d2e5-d860-48f5-a6d0-6b20d0b5b3ea",
   "metadata": {},
   "source": [
    "1. Generate 10,000 hypotheses in each hypothesis space. Report the average hypothesis $\\overline{g}(x)$ in each case."
   ]
  },
  {
   "cell_type": "code",
   "execution_count": 5,
   "id": "1d67b7fa-2750-4805-a630-ddbffc09f62b",
   "metadata": {},
   "outputs": [
    {
     "name": "stdout",
     "output_type": "stream",
     "text": [
      "(10000, 2)\n"
     ]
    }
   ],
   "source": [
    "# Generate 10,000 x values for the constant and linear hypothesis\n",
    "import numpy as np\n",
    "\n",
    "np.random.seed(42)\n",
    "hypo_list = np.random.uniform(-1, 1, size=(10000,2))\n",
    "\n",
    "print(hypo_list.shape)"
   ]
  },
  {
   "cell_type": "code",
   "execution_count": 6,
   "id": "da31113d-389d-4803-8af7-5b37d297bb5e",
   "metadata": {},
   "outputs": [
    {
     "data": {
      "text/html": [
       "<div>\n",
       "<style scoped>\n",
       "    .dataframe tbody tr th:only-of-type {\n",
       "        vertical-align: middle;\n",
       "    }\n",
       "\n",
       "    .dataframe tbody tr th {\n",
       "        vertical-align: top;\n",
       "    }\n",
       "\n",
       "    .dataframe thead th {\n",
       "        text-align: right;\n",
       "    }\n",
       "</style>\n",
       "<table border=\"1\" class=\"dataframe\">\n",
       "  <thead>\n",
       "    <tr style=\"text-align: right;\">\n",
       "      <th></th>\n",
       "      <th>x1</th>\n",
       "      <th>x2</th>\n",
       "    </tr>\n",
       "  </thead>\n",
       "  <tbody>\n",
       "    <tr>\n",
       "      <th>0</th>\n",
       "      <td>-0.250920</td>\n",
       "      <td>0.901429</td>\n",
       "    </tr>\n",
       "    <tr>\n",
       "      <th>1</th>\n",
       "      <td>0.463988</td>\n",
       "      <td>0.197317</td>\n",
       "    </tr>\n",
       "    <tr>\n",
       "      <th>2</th>\n",
       "      <td>-0.687963</td>\n",
       "      <td>-0.688011</td>\n",
       "    </tr>\n",
       "    <tr>\n",
       "      <th>3</th>\n",
       "      <td>-0.883833</td>\n",
       "      <td>0.732352</td>\n",
       "    </tr>\n",
       "    <tr>\n",
       "      <th>4</th>\n",
       "      <td>0.202230</td>\n",
       "      <td>0.416145</td>\n",
       "    </tr>\n",
       "    <tr>\n",
       "      <th>...</th>\n",
       "      <td>...</td>\n",
       "      <td>...</td>\n",
       "    </tr>\n",
       "    <tr>\n",
       "      <th>9995</th>\n",
       "      <td>0.149156</td>\n",
       "      <td>0.518647</td>\n",
       "    </tr>\n",
       "    <tr>\n",
       "      <th>9996</th>\n",
       "      <td>-0.820969</td>\n",
       "      <td>-0.014672</td>\n",
       "    </tr>\n",
       "    <tr>\n",
       "      <th>9997</th>\n",
       "      <td>0.802077</td>\n",
       "      <td>0.754077</td>\n",
       "    </tr>\n",
       "    <tr>\n",
       "      <th>9998</th>\n",
       "      <td>-0.906372</td>\n",
       "      <td>-0.392603</td>\n",
       "    </tr>\n",
       "    <tr>\n",
       "      <th>9999</th>\n",
       "      <td>-0.113360</td>\n",
       "      <td>-0.655470</td>\n",
       "    </tr>\n",
       "  </tbody>\n",
       "</table>\n",
       "<p>10000 rows × 2 columns</p>\n",
       "</div>"
      ],
      "text/plain": [
       "            x1        x2\n",
       "0    -0.250920  0.901429\n",
       "1     0.463988  0.197317\n",
       "2    -0.687963 -0.688011\n",
       "3    -0.883833  0.732352\n",
       "4     0.202230  0.416145\n",
       "...        ...       ...\n",
       "9995  0.149156  0.518647\n",
       "9996 -0.820969 -0.014672\n",
       "9997  0.802077  0.754077\n",
       "9998 -0.906372 -0.392603\n",
       "9999 -0.113360 -0.655470\n",
       "\n",
       "[10000 rows x 2 columns]"
      ]
     },
     "execution_count": 6,
     "metadata": {},
     "output_type": "execute_result"
    }
   ],
   "source": [
    "# Put x1 and x2 into a dataframe\n",
    "import pandas as pd\n",
    "\n",
    "df = pd.DataFrame(hypo_list, columns=['x1','x2'])\n",
    "df"
   ]
  },
  {
   "cell_type": "code",
   "execution_count": 7,
   "id": "9dcc7079-1097-49fc-80d1-ed6b6af36470",
   "metadata": {},
   "outputs": [
    {
     "data": {
      "text/html": [
       "<div>\n",
       "<style scoped>\n",
       "    .dataframe tbody tr th:only-of-type {\n",
       "        vertical-align: middle;\n",
       "    }\n",
       "\n",
       "    .dataframe tbody tr th {\n",
       "        vertical-align: top;\n",
       "    }\n",
       "\n",
       "    .dataframe thead th {\n",
       "        text-align: right;\n",
       "    }\n",
       "</style>\n",
       "<table border=\"1\" class=\"dataframe\">\n",
       "  <thead>\n",
       "    <tr style=\"text-align: right;\">\n",
       "      <th></th>\n",
       "      <th>x1</th>\n",
       "      <th>x2</th>\n",
       "      <th>y1</th>\n",
       "      <th>y2</th>\n",
       "    </tr>\n",
       "  </thead>\n",
       "  <tbody>\n",
       "    <tr>\n",
       "      <th>0</th>\n",
       "      <td>-0.250920</td>\n",
       "      <td>0.901429</td>\n",
       "      <td>-0.709147</td>\n",
       "      <td>0.304745</td>\n",
       "    </tr>\n",
       "    <tr>\n",
       "      <th>1</th>\n",
       "      <td>0.463988</td>\n",
       "      <td>0.197317</td>\n",
       "      <td>0.993607</td>\n",
       "      <td>0.580945</td>\n",
       "    </tr>\n",
       "    <tr>\n",
       "      <th>2</th>\n",
       "      <td>-0.687963</td>\n",
       "      <td>-0.688011</td>\n",
       "      <td>-0.830661</td>\n",
       "      <td>-0.830577</td>\n",
       "    </tr>\n",
       "    <tr>\n",
       "      <th>3</th>\n",
       "      <td>-0.883833</td>\n",
       "      <td>0.732352</td>\n",
       "      <td>-0.356903</td>\n",
       "      <td>0.745204</td>\n",
       "    </tr>\n",
       "    <tr>\n",
       "      <th>4</th>\n",
       "      <td>0.202230</td>\n",
       "      <td>0.416145</td>\n",
       "      <td>0.593439</td>\n",
       "      <td>0.965500</td>\n",
       "    </tr>\n",
       "  </tbody>\n",
       "</table>\n",
       "</div>"
      ],
      "text/plain": [
       "         x1        x2        y1        y2\n",
       "0 -0.250920  0.901429 -0.709147  0.304745\n",
       "1  0.463988  0.197317  0.993607  0.580945\n",
       "2 -0.687963 -0.688011 -0.830661 -0.830577\n",
       "3 -0.883833  0.732352 -0.356903  0.745204\n",
       "4  0.202230  0.416145  0.593439  0.965500"
      ]
     },
     "execution_count": 7,
     "metadata": {},
     "output_type": "execute_result"
    }
   ],
   "source": [
    "# Define f(x)\n",
    "def f(x):\n",
    "    return np.sin(np.pi * x)\n",
    "# Find y1 and y2\n",
    "df['y1'] = f(df['x1'])\n",
    "df['y2'] = f(df['x2'])\n",
    "df.head()"
   ]
  },
  {
   "cell_type": "code",
   "execution_count": 8,
   "id": "a1c781d4-77b1-4fa0-9fc1-0e494b772b57",
   "metadata": {},
   "outputs": [
    {
     "data": {
      "text/html": [
       "<div>\n",
       "<style scoped>\n",
       "    .dataframe tbody tr th:only-of-type {\n",
       "        vertical-align: middle;\n",
       "    }\n",
       "\n",
       "    .dataframe tbody tr th {\n",
       "        vertical-align: top;\n",
       "    }\n",
       "\n",
       "    .dataframe thead th {\n",
       "        text-align: right;\n",
       "    }\n",
       "</style>\n",
       "<table border=\"1\" class=\"dataframe\">\n",
       "  <thead>\n",
       "    <tr style=\"text-align: right;\">\n",
       "      <th></th>\n",
       "      <th>x1</th>\n",
       "      <th>x2</th>\n",
       "      <th>y1</th>\n",
       "      <th>y2</th>\n",
       "      <th>slopes</th>\n",
       "      <th>intercepts</th>\n",
       "    </tr>\n",
       "  </thead>\n",
       "  <tbody>\n",
       "    <tr>\n",
       "      <th>0</th>\n",
       "      <td>-0.250920</td>\n",
       "      <td>0.901429</td>\n",
       "      <td>-0.709147</td>\n",
       "      <td>0.304745</td>\n",
       "      <td>0.879849</td>\n",
       "      <td>-0.488376</td>\n",
       "    </tr>\n",
       "    <tr>\n",
       "      <th>1</th>\n",
       "      <td>0.463988</td>\n",
       "      <td>0.197317</td>\n",
       "      <td>0.993607</td>\n",
       "      <td>0.580945</td>\n",
       "      <td>1.547457</td>\n",
       "      <td>0.275606</td>\n",
       "    </tr>\n",
       "    <tr>\n",
       "      <th>2</th>\n",
       "      <td>-0.687963</td>\n",
       "      <td>-0.688011</td>\n",
       "      <td>-0.830661</td>\n",
       "      <td>-0.830577</td>\n",
       "      <td>-1.749368</td>\n",
       "      <td>-2.034161</td>\n",
       "    </tr>\n",
       "    <tr>\n",
       "      <th>3</th>\n",
       "      <td>-0.883833</td>\n",
       "      <td>0.732352</td>\n",
       "      <td>-0.356903</td>\n",
       "      <td>0.745204</td>\n",
       "      <td>0.681918</td>\n",
       "      <td>0.245799</td>\n",
       "    </tr>\n",
       "    <tr>\n",
       "      <th>4</th>\n",
       "      <td>0.202230</td>\n",
       "      <td>0.416145</td>\n",
       "      <td>0.593439</td>\n",
       "      <td>0.965500</td>\n",
       "      <td>1.739297</td>\n",
       "      <td>0.241701</td>\n",
       "    </tr>\n",
       "  </tbody>\n",
       "</table>\n",
       "</div>"
      ],
      "text/plain": [
       "         x1        x2        y1        y2    slopes  intercepts\n",
       "0 -0.250920  0.901429 -0.709147  0.304745  0.879849   -0.488376\n",
       "1  0.463988  0.197317  0.993607  0.580945  1.547457    0.275606\n",
       "2 -0.687963 -0.688011 -0.830661 -0.830577 -1.749368   -2.034161\n",
       "3 -0.883833  0.732352 -0.356903  0.745204  0.681918    0.245799\n",
       "4  0.202230  0.416145  0.593439  0.965500  1.739297    0.241701"
      ]
     },
     "execution_count": 8,
     "metadata": {},
     "output_type": "execute_result"
    }
   ],
   "source": [
    "# Find the slopes and intercepts for the linear hypothesis\n",
    "\n",
    "df['slopes'] = (df['y2'] - df['y1'])/(df['x2'] - df['x1'])\n",
    "df['intercepts'] = (df['y1']) - (df['slopes'] * df['x1'])\n",
    "\n",
    "df.head()"
   ]
  },
  {
   "cell_type": "code",
   "execution_count": 9,
   "id": "9ca42c14-1a74-48a5-8ed0-65dfefa8a95f",
   "metadata": {},
   "outputs": [
    {
     "data": {
      "text/html": [
       "<div>\n",
       "<style scoped>\n",
       "    .dataframe tbody tr th:only-of-type {\n",
       "        vertical-align: middle;\n",
       "    }\n",
       "\n",
       "    .dataframe tbody tr th {\n",
       "        vertical-align: top;\n",
       "    }\n",
       "\n",
       "    .dataframe thead th {\n",
       "        text-align: right;\n",
       "    }\n",
       "</style>\n",
       "<table border=\"1\" class=\"dataframe\">\n",
       "  <thead>\n",
       "    <tr style=\"text-align: right;\">\n",
       "      <th></th>\n",
       "      <th>x1</th>\n",
       "      <th>x2</th>\n",
       "      <th>y1</th>\n",
       "      <th>y2</th>\n",
       "      <th>slopes</th>\n",
       "      <th>intercepts</th>\n",
       "      <th>c_list</th>\n",
       "    </tr>\n",
       "  </thead>\n",
       "  <tbody>\n",
       "    <tr>\n",
       "      <th>0</th>\n",
       "      <td>-0.250920</td>\n",
       "      <td>0.901429</td>\n",
       "      <td>-0.709147</td>\n",
       "      <td>0.304745</td>\n",
       "      <td>0.879849</td>\n",
       "      <td>-0.488376</td>\n",
       "      <td>-0.202201</td>\n",
       "    </tr>\n",
       "    <tr>\n",
       "      <th>1</th>\n",
       "      <td>0.463988</td>\n",
       "      <td>0.197317</td>\n",
       "      <td>0.993607</td>\n",
       "      <td>0.580945</td>\n",
       "      <td>1.547457</td>\n",
       "      <td>0.275606</td>\n",
       "      <td>0.787276</td>\n",
       "    </tr>\n",
       "    <tr>\n",
       "      <th>2</th>\n",
       "      <td>-0.687963</td>\n",
       "      <td>-0.688011</td>\n",
       "      <td>-0.830661</td>\n",
       "      <td>-0.830577</td>\n",
       "      <td>-1.749368</td>\n",
       "      <td>-2.034161</td>\n",
       "      <td>-0.830619</td>\n",
       "    </tr>\n",
       "    <tr>\n",
       "      <th>3</th>\n",
       "      <td>-0.883833</td>\n",
       "      <td>0.732352</td>\n",
       "      <td>-0.356903</td>\n",
       "      <td>0.745204</td>\n",
       "      <td>0.681918</td>\n",
       "      <td>0.245799</td>\n",
       "      <td>0.194150</td>\n",
       "    </tr>\n",
       "    <tr>\n",
       "      <th>4</th>\n",
       "      <td>0.202230</td>\n",
       "      <td>0.416145</td>\n",
       "      <td>0.593439</td>\n",
       "      <td>0.965500</td>\n",
       "      <td>1.739297</td>\n",
       "      <td>0.241701</td>\n",
       "      <td>0.779470</td>\n",
       "    </tr>\n",
       "  </tbody>\n",
       "</table>\n",
       "</div>"
      ],
      "text/plain": [
       "         x1        x2        y1        y2    slopes  intercepts    c_list\n",
       "0 -0.250920  0.901429 -0.709147  0.304745  0.879849   -0.488376 -0.202201\n",
       "1  0.463988  0.197317  0.993607  0.580945  1.547457    0.275606  0.787276\n",
       "2 -0.687963 -0.688011 -0.830661 -0.830577 -1.749368   -2.034161 -0.830619\n",
       "3 -0.883833  0.732352 -0.356903  0.745204  0.681918    0.245799  0.194150\n",
       "4  0.202230  0.416145  0.593439  0.965500  1.739297    0.241701  0.779470"
      ]
     },
     "execution_count": 9,
     "metadata": {},
     "output_type": "execute_result"
    }
   ],
   "source": [
    "# Find a list of intercepts for the constant hypothesis\n",
    "\n",
    "df['c_list'] = (df['y1'] + df['y2'])/2\n",
    "df.head()"
   ]
  },
  {
   "cell_type": "code",
   "execution_count": 10,
   "id": "f9ef74e6-85dd-492a-954a-9c67b7216214",
   "metadata": {},
   "outputs": [
    {
     "name": "stdout",
     "output_type": "stream",
     "text": [
      "The average for the constant hypothesis is: -0.0016939870855342157\n"
     ]
    }
   ],
   "source": [
    "# Find average for the constant hypothesis\n",
    "\n",
    "avg_c = np.mean(df['c_list'])\n",
    "print(f'The average for the constant hypothesis is: {avg_c}')"
   ]
  },
  {
   "cell_type": "code",
   "execution_count": 11,
   "id": "c4548784-4ffb-446b-9fa1-347f62996c9a",
   "metadata": {},
   "outputs": [
    {
     "name": "stdout",
     "output_type": "stream",
     "text": [
      "The average for the linear hypothesis is: 0.7799826476373173x + -0.008477770343247686\n"
     ]
    }
   ],
   "source": [
    "# Find average for the linear hypothesis\n",
    "\n",
    "avg_slope = np.mean(df['slopes'])\n",
    "avg_int = np.mean(df['intercepts'])\n",
    "\n",
    "print(f'The average for the linear hypothesis is: {avg_slope}x + {avg_int}')"
   ]
  },
  {
   "cell_type": "markdown",
   "id": "6af77933-2efc-4d1f-81a3-c6019fc79fb0",
   "metadata": {},
   "source": [
    "2. Find and report $bias^2$ for each model."
   ]
  },
  {
   "cell_type": "code",
   "execution_count": 13,
   "id": "ad969a18-05e5-4a27-89c0-8682cfd49b75",
   "metadata": {},
   "outputs": [],
   "source": [
    "# Generate 10,000 x-values for testing\n",
    "x_test = np.linspace(-1, 1, 10000)\n",
    "x_test.shape\n",
    "f_list = f(x_test)"
   ]
  },
  {
   "cell_type": "code",
   "execution_count": 14,
   "id": "18628f9f-46a0-4ccc-aa0d-b73d50a672af",
   "metadata": {},
   "outputs": [
    {
     "data": {
      "text/plain": [
       "0.49995286959224594"
      ]
     },
     "execution_count": 14,
     "metadata": {},
     "output_type": "execute_result"
    }
   ],
   "source": [
    "# Find bias for constant hypothesis\n",
    "bias_c = np.mean((f_list - avg_c)**2)\n",
    "bias_c"
   ]
  },
  {
   "cell_type": "code",
   "execution_count": 15,
   "id": "a06140e7-0698-416b-9432-81ed605667c2",
   "metadata": {},
   "outputs": [
    {
     "data": {
      "text/plain": [
       "0.20635070769894437"
      ]
     },
     "execution_count": 15,
     "metadata": {},
     "output_type": "execute_result"
    }
   ],
   "source": [
    "# Find bias for linear hypothesis\n",
    "avg_lin = avg_slope * x_test + avg_int\n",
    "bias_lin = np.mean((avg_lin - f_list)**2)\n",
    "bias_lin"
   ]
  },
  {
   "cell_type": "markdown",
   "id": "ff41f4c2-2ac7-416a-a36f-d90627f5d3d8",
   "metadata": {},
   "source": [
    "3. Find and report variance for each model"
   ]
  },
  {
   "cell_type": "code",
   "execution_count": 17,
   "id": "6917008b-74af-4736-a125-1c879c1cd8d9",
   "metadata": {},
   "outputs": [
    {
     "data": {
      "text/plain": [
       "0.2509218910688384"
      ]
     },
     "execution_count": 17,
     "metadata": {},
     "output_type": "execute_result"
    }
   ],
   "source": [
    "# Find variance for constant hypothesis\n",
    "var_c = np.mean((df['c_list'] - avg_c)**2)\n",
    "var_c"
   ]
  },
  {
   "cell_type": "code",
   "execution_count": 18,
   "id": "6f831d09-cef0-40de-a0e9-49996b1c0d5d",
   "metadata": {},
   "outputs": [
    {
     "data": {
      "text/plain": [
       "1.655701759951252"
      ]
     },
     "execution_count": 18,
     "metadata": {},
     "output_type": "execute_result"
    }
   ],
   "source": [
    "# Find variance for linear ypothesis\n",
    "g_x = {}\n",
    "\n",
    "for i in range(len(x_test)):\n",
    "    g_x[i] = (df['slopes'] * x_test[i] + df['intercepts'])\n",
    "df_gx = pd.DataFrame(g_x)\n",
    "\n",
    "var_x = df_gx.var()\n",
    "\n",
    "var_lin = np.mean(var_x)\n",
    "var_lin"
   ]
  },
  {
   "cell_type": "markdown",
   "id": "9242c4fd-a0ca-48fe-a9bf-e54d4664d803",
   "metadata": {},
   "source": [
    "4. For each case, plot $\\overline{g}(x) \\pm \\sqrt{var(x)}$ along with $\\overline{g}(x)$ and target function $f(x) = sin(\\pi x)$. Which model will you choose? Why? Round your answers to 3 decimal places."
   ]
  },
  {
   "cell_type": "code",
   "execution_count": 20,
   "id": "d558b1d9-d8bf-4f0a-bbf4-c0dcb1c7c8ea",
   "metadata": {},
   "outputs": [
    {
     "data": {
      "text/plain": [
       "array([-0.00169399, -0.00169399, -0.00169399, ..., -0.00169399,\n",
       "       -0.00169399, -0.00169399])"
      ]
     },
     "execution_count": 20,
     "metadata": {},
     "output_type": "execute_result"
    }
   ],
   "source": [
    "avg_c_list = np.repeat(avg_c, 10000)\n",
    "avg_c_list"
   ]
  },
  {
   "cell_type": "code",
   "execution_count": 21,
   "id": "e16da11d-4158-49b8-b48b-86538663aacb",
   "metadata": {},
   "outputs": [
    {
     "data": {
      "image/png": "[encoded data removed]",
      "text/plain": [
       "<Figure size 640x480 with 1 Axes>"
      ]
     },
     "metadata": {},
     "output_type": "display_data"
    }
   ],
   "source": [
    "# Plot the constant hypothesis model\n",
    "import matplotlib.pyplot as plt\n",
    "\n",
    "plt.figure()\n",
    "plt.plot(x_test, f_list, label=r'$f(x)=\\sin(\\pi x)$')\n",
    "plt.plot(x_test, avg_c_list, label=r'Average hypothesis $\\bar{g}(x)$')\n",
    "plt.plot(x_test, avg_c_list + np.sqrt(var_c), '--', label=r'$\\bar{g}(x)+\\sqrt{\\mathrm{var}}$')\n",
    "plt.plot(x_test, avg_c_list - np.sqrt(var_c), '--', label=r'$\\bar{g}(x)-\\sqrt{\\mathrm{var}}$')\n",
    "plt.title('Constant Hypothesis Model')\n",
    "plt.xlabel('x')\n",
    "plt.ylabel('y')\n",
    "plt.legend(loc='lower right')\n",
    "plt.show()"
   ]
  },
  {
   "cell_type": "code",
   "execution_count": 22,
   "id": "c9a5cfce-7556-4fc4-8b4b-b90760a121c0",
   "metadata": {},
   "outputs": [
    {
     "data": {
      "image/png": "[encoded data removed]",
      "text/plain": [
       "<Figure size 640x480 with 1 Axes>"
      ]
     },
     "metadata": {},
     "output_type": "display_data"
    }
   ],
   "source": [
    "# Plot the linear hypothesis model\n",
    "\n",
    "plt.figure()\n",
    "plt.plot(x_test, f_list, label=r'$f(x)=\\sin(\\pi x)$')\n",
    "plt.plot(x_test, avg_lin, label=r'Average hypothesis $\\bar{g}(x)$')\n",
    "plt.plot(x_test, avg_lin + np.sqrt(var_x), '--', label=r'$\\bar{g}(x)+\\sqrt{\\mathrm{var}}$')\n",
    "plt.plot(x_test, avg_lin - np.sqrt(var_x), '--', label=r'$\\bar{g}(x)-\\sqrt{\\mathrm{var}}$')\n",
    "plt.title('Linear Hypothesis Model')\n",
    "plt.xlabel('x')\n",
    "plt.ylabel('y')\n",
    "plt.legend(loc='lower right')\n",
    "plt.show()"
   ]
  },
  {
   "cell_type": "code",
   "execution_count": 23,
   "id": "25e771a0-2017-4520-8369-cf8fa2a8c658",
   "metadata": {},
   "outputs": [
    {
     "data": {
      "text/plain": [
       "0.7508747606610844"
      ]
     },
     "execution_count": 23,
     "metadata": {},
     "output_type": "execute_result"
    }
   ],
   "source": [
    "error_c = bias_c + var_c\n",
    "error_c"
   ]
  },
  {
   "cell_type": "code",
   "execution_count": 24,
   "id": "c4aa0580-1136-473c-817e-f400771f6312",
   "metadata": {},
   "outputs": [
    {
     "data": {
      "text/plain": [
       "1.8620524676501964"
      ]
     },
     "execution_count": 24,
     "metadata": {},
     "output_type": "execute_result"
    }
   ],
   "source": [
    "error_lin = bias_lin + var_lin\n",
    "error_lin"
   ]
  },
  {
   "cell_type": "markdown",
   "id": "8fa8f166-7a33-4015-8d8d-7fdcec97d7eb",
   "metadata": {},
   "source": [
    "The constant model has a total error of 0.751 and the linear model has a total error of 1.862. I would choose the constant model because the constant model has a lower total error than the linear model."
   ]
  }
 ],
 "metadata": {
  "kernelspec": {
   "display_name": "Python (nlp-env)",
   "language": "python",
   "name": "nlp-env"
  },
  "language_info": {
   "codemirror_mode": {
    "name": "ipython",
    "version": 3
   },
   "file_extension": ".py",
   "mimetype": "text/x-python",
   "name": "python",
   "nbconvert_exporter": "python",
   "pygments_lexer": "ipython3",
   "version": "3.10.16"
  }
 },
 "nbformat": 4,
 "nbformat_minor": 5
}
