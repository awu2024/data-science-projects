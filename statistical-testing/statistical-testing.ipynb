{
 "cells": [
  {
   "cell_type": "markdown",
   "id": "82f8fec9-8c5d-4f3b-88ec-a2acf748479d",
   "metadata": {},
   "source": [
    "# Statistical Testing"
   ]
  },
  {
   "cell_type": "markdown",
   "id": "79f6cb7d-ab2a-4cdc-a85a-7bce475e1d4d",
   "metadata": {},
   "source": [
    "### 1. Is there a statistically significant difference between the medians of GPA of the group that graduates and the group that does not."
   ]
  },
  {
   "cell_type": "markdown",
   "id": "22c33a1e-e785-4338-ab5a-818a0adcb98d",
   "metadata": {},
   "source": [
    "Null Hypothesis: There is no difference in the medians of GPA between the group that graduates and the group that does not."
   ]
  },
  {
   "cell_type": "markdown",
   "id": "7b5061c2-7557-48c0-9db8-ab66d4a99f5f",
   "metadata": {},
   "source": [
    "Alternative Hypothesis: The median GPA of the group that graduates is different from the median GPA of the group that does not."
   ]
  },
  {
   "cell_type": "markdown",
   "id": "45826255-addf-47cf-81e6-7c8f530852a0",
   "metadata": {},
   "source": [
    "We will use the Wilcoxon Rank-Sum test to find the p-value."
   ]
  },
  {
   "cell_type": "code",
   "execution_count": 151,
   "id": "92c90c62-8d11-4244-b4b1-4afa897fc605",
   "metadata": {},
   "outputs": [],
   "source": [
    "# Import numpy and pandas\n",
    "import numpy as np\n",
    "import pandas as pd\n",
    "# Import scipy.stats to access test functions\n",
    "from scipy import stats"
   ]
  },
  {
   "cell_type": "code",
   "execution_count": 152,
   "id": "44774407-be13-4f52-971b-76ccc83fc882",
   "metadata": {},
   "outputs": [
    {
     "data": {
      "text/html": [
       "<div>\n",
       "<style scoped>\n",
       "    .dataframe tbody tr th:only-of-type {\n",
       "        vertical-align: middle;\n",
       "    }\n",
       "\n",
       "    .dataframe tbody tr th {\n",
       "        vertical-align: top;\n",
       "    }\n",
       "\n",
       "    .dataframe thead th {\n",
       "        text-align: right;\n",
       "    }\n",
       "</style>\n",
       "<table border=\"1\" class=\"dataframe\">\n",
       "  <thead>\n",
       "    <tr style=\"text-align: right;\">\n",
       "      <th></th>\n",
       "      <th>SexCode</th>\n",
       "      <th>MaritalCode</th>\n",
       "      <th>PrevEdCode</th>\n",
       "      <th>DDVeteran</th>\n",
       "      <th>DaysEnrollToStart</th>\n",
       "      <th>AgeAtStart</th>\n",
       "      <th>AgeAtGrad</th>\n",
       "      <th>GPA</th>\n",
       "      <th>MinutesAttended</th>\n",
       "      <th>HoursAttempt</th>\n",
       "      <th>HoursEarned</th>\n",
       "      <th>HoursReq</th>\n",
       "      <th>MinutesAbsent</th>\n",
       "      <th>TransferCredits</th>\n",
       "      <th>TransferGPA</th>\n",
       "      <th>MinEFC</th>\n",
       "      <th>MaxENTEntranceScore</th>\n",
       "      <th>gradFlag</th>\n",
       "    </tr>\n",
       "  </thead>\n",
       "  <tbody>\n",
       "    <tr>\n",
       "      <th>0</th>\n",
       "      <td>M</td>\n",
       "      <td>M</td>\n",
       "      <td>BACH</td>\n",
       "      <td>0</td>\n",
       "      <td>55</td>\n",
       "      <td>24</td>\n",
       "      <td>27</td>\n",
       "      <td>3.22</td>\n",
       "      <td>145953</td>\n",
       "      <td>2925.0</td>\n",
       "      <td>2550.0</td>\n",
       "      <td>2565</td>\n",
       "      <td>3475</td>\n",
       "      <td>19.00</td>\n",
       "      <td>2.55</td>\n",
       "      <td>0.0</td>\n",
       "      <td>81.0</td>\n",
       "      <td>1</td>\n",
       "    </tr>\n",
       "    <tr>\n",
       "      <th>1</th>\n",
       "      <td>F</td>\n",
       "      <td>M</td>\n",
       "      <td>BACH</td>\n",
       "      <td>0</td>\n",
       "      <td>143</td>\n",
       "      <td>22</td>\n",
       "      <td>25</td>\n",
       "      <td>3.02</td>\n",
       "      <td>129045</td>\n",
       "      <td>2640.0</td>\n",
       "      <td>2565.0</td>\n",
       "      <td>2565</td>\n",
       "      <td>11840</td>\n",
       "      <td>12.00</td>\n",
       "      <td>NaN</td>\n",
       "      <td>0.0</td>\n",
       "      <td>89.5</td>\n",
       "      <td>1</td>\n",
       "    </tr>\n",
       "    <tr>\n",
       "      <th>2</th>\n",
       "      <td>F</td>\n",
       "      <td>S</td>\n",
       "      <td>BACH</td>\n",
       "      <td>0</td>\n",
       "      <td>98</td>\n",
       "      <td>30</td>\n",
       "      <td>33</td>\n",
       "      <td>3.47</td>\n",
       "      <td>111385</td>\n",
       "      <td>2559.0</td>\n",
       "      <td>2514.0</td>\n",
       "      <td>2565</td>\n",
       "      <td>935</td>\n",
       "      <td>37.67</td>\n",
       "      <td>2.84</td>\n",
       "      <td>0.0</td>\n",
       "      <td>NaN</td>\n",
       "      <td>1</td>\n",
       "    </tr>\n",
       "    <tr>\n",
       "      <th>3</th>\n",
       "      <td>F</td>\n",
       "      <td>UN</td>\n",
       "      <td>BACH</td>\n",
       "      <td>0</td>\n",
       "      <td>101</td>\n",
       "      <td>24</td>\n",
       "      <td>27</td>\n",
       "      <td>3.19</td>\n",
       "      <td>135401</td>\n",
       "      <td>2520.0</td>\n",
       "      <td>2520.0</td>\n",
       "      <td>2565</td>\n",
       "      <td>4549</td>\n",
       "      <td>6.00</td>\n",
       "      <td>NaN</td>\n",
       "      <td>0.0</td>\n",
       "      <td>87.5</td>\n",
       "      <td>1</td>\n",
       "    </tr>\n",
       "    <tr>\n",
       "      <th>4</th>\n",
       "      <td>M</td>\n",
       "      <td>NaN</td>\n",
       "      <td>SOMECOLL</td>\n",
       "      <td>0</td>\n",
       "      <td>61</td>\n",
       "      <td>19</td>\n",
       "      <td>22</td>\n",
       "      <td>3.84</td>\n",
       "      <td>115660</td>\n",
       "      <td>2520.0</td>\n",
       "      <td>2520.0</td>\n",
       "      <td>2565</td>\n",
       "      <td>1340</td>\n",
       "      <td>22.00</td>\n",
       "      <td>NaN</td>\n",
       "      <td>3141.0</td>\n",
       "      <td>NaN</td>\n",
       "      <td>1</td>\n",
       "    </tr>\n",
       "  </tbody>\n",
       "</table>\n",
       "</div>"
      ],
      "text/plain": [
       "  SexCode MaritalCode PrevEdCode  DDVeteran  DaysEnrollToStart  AgeAtStart  \\\n",
       "0       M           M       BACH          0                 55          24   \n",
       "1       F           M       BACH          0                143          22   \n",
       "2       F           S       BACH          0                 98          30   \n",
       "3       F          UN       BACH          0                101          24   \n",
       "4       M         NaN   SOMECOLL          0                 61          19   \n",
       "\n",
       "   AgeAtGrad   GPA  MinutesAttended  HoursAttempt  HoursEarned  HoursReq  \\\n",
       "0         27  3.22           145953        2925.0       2550.0      2565   \n",
       "1         25  3.02           129045        2640.0       2565.0      2565   \n",
       "2         33  3.47           111385        2559.0       2514.0      2565   \n",
       "3         27  3.19           135401        2520.0       2520.0      2565   \n",
       "4         22  3.84           115660        2520.0       2520.0      2565   \n",
       "\n",
       "   MinutesAbsent  TransferCredits  TransferGPA  MinEFC  MaxENTEntranceScore  \\\n",
       "0           3475            19.00         2.55     0.0                 81.0   \n",
       "1          11840            12.00          NaN     0.0                 89.5   \n",
       "2            935            37.67         2.84     0.0                  NaN   \n",
       "3           4549             6.00          NaN     0.0                 87.5   \n",
       "4           1340            22.00          NaN  3141.0                  NaN   \n",
       "\n",
       "   gradFlag  \n",
       "0         1  \n",
       "1         1  \n",
       "2         1  \n",
       "3         1  \n",
       "4         1  "
      ]
     },
     "execution_count": 152,
     "metadata": {},
     "output_type": "execute_result"
    }
   ],
   "source": [
    "# Read the collegeData.csv file\n",
    "df_college = pd.read_csv('collegeData.csv')\n",
    "df_college.head()"
   ]
  },
  {
   "cell_type": "code",
   "execution_count": 153,
   "id": "790087e2-d047-44c5-9821-629824217a8e",
   "metadata": {},
   "outputs": [
    {
     "name": "stdout",
     "output_type": "stream",
     "text": [
      "<class 'pandas.core.frame.DataFrame'>\n",
      "RangeIndex: 2784 entries, 0 to 2783\n",
      "Data columns (total 18 columns):\n",
      " #   Column               Non-Null Count  Dtype  \n",
      "---  ------               --------------  -----  \n",
      " 0   SexCode              2784 non-null   object \n",
      " 1   MaritalCode          1796 non-null   object \n",
      " 2   PrevEdCode           2784 non-null   object \n",
      " 3   DDVeteran            2784 non-null   int64  \n",
      " 4   DaysEnrollToStart    2784 non-null   int64  \n",
      " 5   AgeAtStart           2784 non-null   int64  \n",
      " 6   AgeAtGrad            2784 non-null   int64  \n",
      " 7   GPA                  2784 non-null   float64\n",
      " 8   MinutesAttended      2784 non-null   int64  \n",
      " 9   HoursAttempt         2784 non-null   float64\n",
      " 10  HoursEarned          2784 non-null   float64\n",
      " 11  HoursReq             2784 non-null   int64  \n",
      " 12  MinutesAbsent        2784 non-null   int64  \n",
      " 13  TransferCredits      2066 non-null   float64\n",
      " 14  TransferGPA          1500 non-null   float64\n",
      " 15  MinEFC               2743 non-null   float64\n",
      " 16  MaxENTEntranceScore  1796 non-null   float64\n",
      " 17  gradFlag             2784 non-null   int64  \n",
      "dtypes: float64(7), int64(8), object(3)\n",
      "memory usage: 391.6+ KB\n"
     ]
    }
   ],
   "source": [
    "# Checking collegeData.csv types\n",
    "df_college.info()"
   ]
  },
  {
   "cell_type": "code",
   "execution_count": 154,
   "id": "20886670-22b7-450b-ad1a-980ba19303a4",
   "metadata": {},
   "outputs": [
    {
     "data": {
      "text/plain": [
       "0    3.22\n",
       "1    3.02\n",
       "2    3.47\n",
       "3    3.19\n",
       "4    3.84\n",
       "Name: GPA, dtype: float64"
      ]
     },
     "execution_count": 154,
     "metadata": {},
     "output_type": "execute_result"
    }
   ],
   "source": [
    "# Create variable containing grad students GPA\n",
    "grad_GPA = df_college.loc[df_college['gradFlag'] == 1, 'GPA'].dropna()\n",
    "grad_GPA.head()"
   ]
  },
  {
   "cell_type": "code",
   "execution_count": 155,
   "id": "150eadc7-d47f-4b16-835a-9eb7bb579806",
   "metadata": {},
   "outputs": [
    {
     "data": {
      "text/plain": [
       "7       2.64\n",
       "10      0.00\n",
       "12      2.51\n",
       "16      1.90\n",
       "20      3.35\n",
       "        ... \n",
       "2773    2.67\n",
       "2775    2.82\n",
       "2777    2.85\n",
       "2780    2.50\n",
       "2782    3.19\n",
       "Name: GPA, Length: 944, dtype: float64"
      ]
     },
     "execution_count": 155,
     "metadata": {},
     "output_type": "execute_result"
    }
   ],
   "source": [
    "# Create variable containing nongrad students GPA\n",
    "nongrad_GPA = df_college.loc[df_college['gradFlag'] == 0, 'GPA'].dropna()\n",
    "nongrad_GPA"
   ]
  },
  {
   "cell_type": "code",
   "execution_count": 156,
   "id": "483ed8b0-0013-49cd-8529-e92600ea4363",
   "metadata": {},
   "outputs": [
    {
     "name": "stdout",
     "output_type": "stream",
     "text": [
      "38.12823902794451 0.0\n"
     ]
    }
   ],
   "source": [
    "# Use Wilcoxon Rank-Sum test to compare medians\n",
    "statistic_GPA, p_value_GPA = stats.ranksums(grad_GPA, nongrad_GPA)\n",
    "print(statistic_GPA, p_value_GPA)"
   ]
  },
  {
   "cell_type": "markdown",
   "id": "b172a412-ae2a-4a3f-8e0d-873e80b749ac",
   "metadata": {},
   "source": [
    "P-value < 0.05. At the 5% significance level, we reject the null hypothesis and conclude that there is sufficient evidence to suggest that the median GPA between the two groups are different."
   ]
  },
  {
   "cell_type": "markdown",
   "id": "fd0adbce-92c5-406d-a511-65564ad2ce42",
   "metadata": {},
   "source": [
    "### 2. Is there a statistically significant difference between the means of Age At Start of the group that graduates and the group that does not."
   ]
  },
  {
   "cell_type": "markdown",
   "id": "0a37b8f4-3592-46c9-a58f-e6393daed145",
   "metadata": {},
   "source": [
    "Null Hypothesis: There is no difference in the means of Age At Start between the group that graduates and the group that does not."
   ]
  },
  {
   "cell_type": "markdown",
   "id": "287ada9e-fb9e-4597-9b91-bf4bc169eac3",
   "metadata": {},
   "source": [
    "Alternative Hypothesis: The mean Age At Start of the group that graduates is different from the mean Age At Start of the group that does not."
   ]
  },
  {
   "cell_type": "markdown",
   "id": "b4d43132-689b-4e80-9f4b-2bfc8edd5055",
   "metadata": {},
   "source": [
    "We will use the independent t-test to find the p-value."
   ]
  },
  {
   "cell_type": "code",
   "execution_count": 162,
   "id": "42361d86-c736-4b84-9fa2-e8e4d6c96eaa",
   "metadata": {},
   "outputs": [
    {
     "data": {
      "text/plain": [
       "0    24\n",
       "1    22\n",
       "2    30\n",
       "3    24\n",
       "4    19\n",
       "Name: AgeAtStart, dtype: int64"
      ]
     },
     "execution_count": 162,
     "metadata": {},
     "output_type": "execute_result"
    }
   ],
   "source": [
    "# Create variable containing grad students age at start\n",
    "grad_age= df_college.loc[df_college['gradFlag'] == 1, 'AgeAtStart'].dropna()\n",
    "grad_age.head()"
   ]
  },
  {
   "cell_type": "code",
   "execution_count": 163,
   "id": "806ac6de-5cb0-4d84-a204-2b6e969e1c11",
   "metadata": {},
   "outputs": [
    {
     "data": {
      "text/plain": [
       "7     20\n",
       "10    23\n",
       "12    23\n",
       "16    18\n",
       "20    27\n",
       "Name: AgeAtStart, dtype: int64"
      ]
     },
     "execution_count": 163,
     "metadata": {},
     "output_type": "execute_result"
    }
   ],
   "source": [
    "# Create variable containing nongrad students age at start\n",
    "nongrad_age = df_college.loc[df_college['gradFlag'] == 0, 'AgeAtStart'].dropna()\n",
    "nongrad_age.head()"
   ]
  },
  {
   "cell_type": "code",
   "execution_count": 164,
   "id": "18656b40-9ac6-4737-9cf9-c152ee9e1949",
   "metadata": {},
   "outputs": [
    {
     "data": {
      "text/plain": [
       "TtestResult(statistic=1.2551304992860344, pvalue=0.20960262234043067, df=1712.65295996541)"
      ]
     },
     "execution_count": 164,
     "metadata": {},
     "output_type": "execute_result"
    }
   ],
   "source": [
    "# Use independent t-tests to compare the means\n",
    "stats.ttest_ind(grad_age, nongrad_age, equal_var=False)"
   ]
  },
  {
   "cell_type": "markdown",
   "id": "4b70ad7c-08ba-4de8-955d-36263e99a7e6",
   "metadata": {},
   "source": [
    "P-value > 0.05. At the 5% significance level, we do not reject the null hypothesis and conclude that there is insufficient evidence to suggest that the means of Age to Start between the two groups are different."
   ]
  },
  {
   "cell_type": "markdown",
   "id": "f5485a47-fa2e-493a-8563-40c2905121b0",
   "metadata": {},
   "source": [
    "### 3. Is there a statistically significant difference between the medians of Transfer GPA of the group that graduates and the group that does not."
   ]
  },
  {
   "cell_type": "markdown",
   "id": "8791aab6-d9d2-44a4-8c88-c64f37cd99c4",
   "metadata": {},
   "source": [
    "Null Hypothesis: There is no difference in the medians of Transfer GPA between the group that graduates and the group that does not."
   ]
  },
  {
   "cell_type": "markdown",
   "id": "1992d6f0-5086-44e9-afb3-da2ec33fcd7d",
   "metadata": {},
   "source": [
    "Alternative Hypothesis: The median Transfer GPA of the group that graduates is different from the median Transfer GPA of the group that does not."
   ]
  },
  {
   "cell_type": "markdown",
   "id": "a33e3189-31b9-4244-9aed-20fbcd414263",
   "metadata": {},
   "source": [
    "We will use the Wilcoxon Rank-Sum test to find the p-value."
   ]
  },
  {
   "cell_type": "code",
   "execution_count": 170,
   "id": "7909b1fa-fd4d-4d55-9bf4-ebaf748661e6",
   "metadata": {},
   "outputs": [
    {
     "data": {
      "text/plain": [
       "0     2.55\n",
       "2     2.84\n",
       "14    2.09\n",
       "15    3.46\n",
       "33    3.03\n",
       "Name: TransferGPA, dtype: float64"
      ]
     },
     "execution_count": 170,
     "metadata": {},
     "output_type": "execute_result"
    }
   ],
   "source": [
    "# Create variable containing grad students transfer GPA\n",
    "grad_tGPA= df_college.loc[df_college['gradFlag'] == 1, 'TransferGPA'].dropna()\n",
    "grad_tGPA.head()"
   ]
  },
  {
   "cell_type": "code",
   "execution_count": 171,
   "id": "65c6e05f-dc82-4eb0-937f-45b13a55b582",
   "metadata": {},
   "outputs": [
    {
     "data": {
      "text/plain": [
       "7     3.00\n",
       "10    2.36\n",
       "20    2.66\n",
       "22    2.41\n",
       "31    2.08\n",
       "Name: TransferGPA, dtype: float64"
      ]
     },
     "execution_count": 171,
     "metadata": {},
     "output_type": "execute_result"
    }
   ],
   "source": [
    "# Create variable containing nongrad students transfer GPA\n",
    "nongrad_tGPA = df_college.loc[df_college['gradFlag'] == 0, 'TransferGPA'].dropna()\n",
    "nongrad_tGPA.head()"
   ]
  },
  {
   "cell_type": "code",
   "execution_count": 172,
   "id": "8081d958-7a23-4400-ab5f-ea676529a5af",
   "metadata": {},
   "outputs": [
    {
     "name": "stdout",
     "output_type": "stream",
     "text": [
      "7.572647069553644 3.656948357918701e-14\n"
     ]
    }
   ],
   "source": [
    "# Use Wilcoxon Rank-Sum test to compare medians\n",
    "statistic_tGPA, p_value_tGPA = stats.ranksums(grad_tGPA, nongrad_tGPA)\n",
    "print(statistic_tGPA, p_value_tGPA)"
   ]
  },
  {
   "cell_type": "markdown",
   "id": "5f946d62-6536-4945-a1af-72517d6ddf3f",
   "metadata": {},
   "source": [
    "P-value < 0.05. At the 5% significance level, we reject the null hypothesis and conclude that there is sufficient evidence to suggest that the median Transfer GPA between the two groups are different."
   ]
  },
  {
   "cell_type": "markdown",
   "id": "478ff7d6-6b9e-4c7d-a8af-242641d4e4c1",
   "metadata": {},
   "source": [
    "### 4. Is there a statistically significant difference between the means of Transfer Credits of the group that graduates and the group that does not."
   ]
  },
  {
   "cell_type": "markdown",
   "id": "475db5ef-3f5f-4158-97ee-914008ce667c",
   "metadata": {},
   "source": [
    "Null Hypothesis: There is no difference in the means of Transfer Credits between the group that graduates and the group that does not."
   ]
  },
  {
   "cell_type": "markdown",
   "id": "8c1c300b-a733-437e-85f5-5f4d78db523d",
   "metadata": {},
   "source": [
    "Alternative Hypothesis: The mean Transfer Credits of the group that graduates is different from the mean Transfer Credits of the group that does not."
   ]
  },
  {
   "cell_type": "markdown",
   "id": "18ce91d6-5276-4ad3-913f-1368cbbf5070",
   "metadata": {},
   "source": [
    "We will use the independent t-test to find the p-value."
   ]
  },
  {
   "cell_type": "code",
   "execution_count": 178,
   "id": "5e0c1c5c-6f6e-4002-9da1-ff1b4f0cd704",
   "metadata": {},
   "outputs": [
    {
     "data": {
      "text/plain": [
       "0    19.00\n",
       "1    12.00\n",
       "2    37.67\n",
       "3     6.00\n",
       "4    22.00\n",
       "Name: TransferCredits, dtype: float64"
      ]
     },
     "execution_count": 178,
     "metadata": {},
     "output_type": "execute_result"
    }
   ],
   "source": [
    "# Create variable containing grad students Transfer Credits\n",
    "grad_tCredits = df_college.loc[df_college['gradFlag'] == 1, 'TransferCredits'].dropna()\n",
    "grad_tCredits.head()"
   ]
  },
  {
   "cell_type": "code",
   "execution_count": 179,
   "id": "c6677fca-1def-4647-8796-ba9ab15a0dcf",
   "metadata": {},
   "outputs": [
    {
     "data": {
      "text/plain": [
       "7      9.00\n",
       "10    26.00\n",
       "12     3.00\n",
       "20    42.00\n",
       "22    20.01\n",
       "Name: TransferCredits, dtype: float64"
      ]
     },
     "execution_count": 179,
     "metadata": {},
     "output_type": "execute_result"
    }
   ],
   "source": [
    "# Create variable containing nongrad students Transfer Credits\n",
    "nongrad_tCredits = df_college.loc[df_college['gradFlag'] == 0, 'TransferCredits'].dropna()\n",
    "nongrad_tCredits.head()"
   ]
  },
  {
   "cell_type": "code",
   "execution_count": 180,
   "id": "bc7247a8-aea7-4edc-9357-d1614f196782",
   "metadata": {},
   "outputs": [
    {
     "data": {
      "text/plain": [
       "TtestResult(statistic=8.034523946203917, pvalue=2.4435242045889162e-15, df=1080.8508021909931)"
      ]
     },
     "execution_count": 180,
     "metadata": {},
     "output_type": "execute_result"
    }
   ],
   "source": [
    "# Use independent t-tests to compare the means\n",
    "stats.ttest_ind(grad_tCredits, nongrad_tCredits, equal_var=False)"
   ]
  },
  {
   "cell_type": "markdown",
   "id": "8b3882a9-a64d-4ebd-adc5-b7549ff5b5a7",
   "metadata": {},
   "source": [
    "P-value < 0.05. At the 5% significance level, we reject the null hypothesis and conclude that there is sufficient evidence to suggest that the mean Transfer Credits between the two groups are different."
   ]
  },
  {
   "cell_type": "markdown",
   "id": "4821d177-f0ff-41ea-b8ac-fb742756865b",
   "metadata": {},
   "source": [
    "### 5. Determine if there is any association between successful graduation and gender."
   ]
  },
  {
   "cell_type": "markdown",
   "id": "7c08b3dc-5a7f-465d-8595-0277f231b987",
   "metadata": {},
   "source": [
    "Null Hypothesis: Successful graduation and gender are not associated."
   ]
  },
  {
   "cell_type": "markdown",
   "id": "72ea2ca7-9329-414f-9c7b-4b758f9ef397",
   "metadata": {},
   "source": [
    "Alternative Hypothesis: Successful graduation and gender are associated."
   ]
  },
  {
   "cell_type": "markdown",
   "id": "32770e4a-7c83-404b-b336-0ce082c905c3",
   "metadata": {},
   "source": [
    "We use the Chi-Square test to find the p-value."
   ]
  },
  {
   "cell_type": "code",
   "execution_count": 186,
   "id": "551a11c9-f860-430d-8531-033fe56ec7fd",
   "metadata": {},
   "outputs": [
    {
     "name": "stdout",
     "output_type": "stream",
     "text": [
      "SexCode      F    M\n",
      "gradFlag           \n",
      "False      655  289\n",
      "True      1418  422\n"
     ]
    },
    {
     "data": {
      "text/plain": [
       "Chi2ContingencyResult(statistic=18.94778173057208, pvalue=1.3434539080515045e-05, dof=1, expected_freq=array([[ 702.9137931,  241.0862069],\n",
       "       [1370.0862069,  469.9137931]]))"
      ]
     },
     "execution_count": 186,
     "metadata": {},
     "output_type": "execute_result"
    }
   ],
   "source": [
    "# Create a contigency table for successful graduation and gender\n",
    "contingency_table_g = pd.crosstab(df_college['gradFlag'] == 1, df_college['SexCode'])\n",
    "print(contingency_table_g)\n",
    "# Use the Chi-Square test function to find the p-value\n",
    "stats.chi2_contingency(contingency_table_g)"
   ]
  },
  {
   "cell_type": "markdown",
   "id": "6f3ef282-a54e-4f6a-b374-486cbf6a41be",
   "metadata": {},
   "source": [
    "P-value < 0.05. At the 5% significance level, we reject the null hypothesis and conclude that there is sufficient evidence to suggest that successful graduation and gender are associated."
   ]
  },
  {
   "cell_type": "markdown",
   "id": "741fd81b-7c20-485d-97f0-6437a3b10f50",
   "metadata": {},
   "source": [
    "### 6. Determine if there is any association between successful graduation and marital status."
   ]
  },
  {
   "cell_type": "markdown",
   "id": "18d58477-c9f8-4b1a-a525-acd57adbd7a3",
   "metadata": {},
   "source": [
    "Null Hypothesis: Successful graduation and marital status are not associated."
   ]
  },
  {
   "cell_type": "markdown",
   "id": "84e139d1-8063-4f58-a61d-9e8e56e12e0d",
   "metadata": {},
   "source": [
    "Alternative Hypothesis: Successful graduation and marital status are associated"
   ]
  },
  {
   "cell_type": "markdown",
   "id": "58ea6323-d4f0-4698-b2a7-681c4e189a26",
   "metadata": {},
   "source": [
    "We use the Chi-Square test to find the p-value"
   ]
  },
  {
   "cell_type": "code",
   "execution_count": 192,
   "id": "780444cb-82c4-499a-b7b1-cbd46418595b",
   "metadata": {},
   "outputs": [
    {
     "name": "stdout",
     "output_type": "stream",
     "text": [
      "MaritalCode   D    M   P    S   UN\n",
      "gradFlag                          \n",
      "False         9   38   3  171  321\n",
      "True         33  183  14  554  470\n"
     ]
    },
    {
     "data": {
      "text/plain": [
       "Chi2ContingencyResult(statistic=76.0543852268735, pvalue=1.1922501823455327e-15, dof=4, expected_freq=array([[ 12.67483296,  66.69376392,   5.13028953, 218.79175947,\n",
       "        238.70935412],\n",
       "       [ 29.32516704, 154.30623608,  11.86971047, 506.20824053,\n",
       "        552.29064588]]))"
      ]
     },
     "execution_count": 192,
     "metadata": {},
     "output_type": "execute_result"
    }
   ],
   "source": [
    "# Create a contigency table for successful graduation and marital status\n",
    "contingency_table_m = pd.crosstab(df_college['gradFlag'] == 1, df_college['MaritalCode'])\n",
    "print(contingency_table_m)\n",
    "# Use the Chi-Square test function to find the p-value\n",
    "stats.chi2_contingency(contingency_table_m)"
   ]
  },
  {
   "cell_type": "markdown",
   "id": "5224107d-3571-489d-b69b-d2c1fc5d9013",
   "metadata": {},
   "source": [
    "P-value < 0.05. At the 5% significance level, we reject the null hypothesis and conclude that there is sufficient evidence to suggest that successful graduation and marital status are associated."
   ]
  },
  {
   "cell_type": "markdown",
   "id": "24e420db-fe44-4446-9a19-5bdf1634380b",
   "metadata": {},
   "source": [
    "### 7. Determine if there is any association between successful graduation and previous education."
   ]
  },
  {
   "cell_type": "markdown",
   "id": "6e7ebf1f-be34-43a2-a8d9-53c8f15ec3d8",
   "metadata": {},
   "source": [
    "Null Hypothesis: Successful graduation and previous education are not associated"
   ]
  },
  {
   "cell_type": "markdown",
   "id": "3ec5fa5c-66de-4553-b99a-e7601ccc8f13",
   "metadata": {},
   "source": [
    "Alternative Hypothesis: Successful graduation and marital status are associated."
   ]
  },
  {
   "cell_type": "markdown",
   "id": "c5686224-c120-497e-b05d-3950d0818dad",
   "metadata": {},
   "source": [
    "We use the Chi-Square test to find the p-value."
   ]
  },
  {
   "cell_type": "code",
   "execution_count": 198,
   "id": "24420c3e-14bb-4c7e-8389-f094c69c0cd0",
   "metadata": {},
   "outputs": [
    {
     "name": "stdout",
     "output_type": "stream",
     "text": [
      "PrevEdCode  ASSOC  BACH  GED   HS  MAST  POSTHS  SOMECOLL  UN\n",
      "gradFlag                                                     \n",
      "False         103    42    4  138     2       2       647   6\n",
      "True          260   432    1   94    15       0      1036   2\n"
     ]
    },
    {
     "data": {
      "text/plain": [
       "Chi2ContingencyResult(statistic=239.1952510794302, pvalue=5.51109634720097e-48, dof=7, expected_freq=array([[1.23086207e+02, 1.60724138e+02, 1.69540230e+00, 7.86666667e+01,\n",
       "        5.76436782e+00, 6.78160920e-01, 5.70672414e+02, 2.71264368e+00],\n",
       "       [2.39913793e+02, 3.13275862e+02, 3.30459770e+00, 1.53333333e+02,\n",
       "        1.12356322e+01, 1.32183908e+00, 1.11232759e+03, 5.28735632e+00]]))"
      ]
     },
     "execution_count": 198,
     "metadata": {},
     "output_type": "execute_result"
    }
   ],
   "source": [
    "# Create a contigency table for successful graduation and previous education\n",
    "contingency_table_p = pd.crosstab(df_college['gradFlag'] == 1, df_college['PrevEdCode'])\n",
    "print(contingency_table_p)\n",
    "# Use the Chi-Square test function to find the p-value\n",
    "stats.chi2_contingency(contingency_table_p)"
   ]
  },
  {
   "cell_type": "markdown",
   "id": "560a6993-3f3e-4e38-b0e4-0a2f155115cb",
   "metadata": {},
   "source": [
    "P-value < 0.05. At the 5% significance level, we reject the null hypothesis and conclude that there is sufficient evidence to suggest that successful graduation and previous education are associated."
   ]
  }
 ],
 "metadata": {
  "kernelspec": {
   "display_name": "Python (nlp-env)",
   "language": "python",
   "name": "nlp-env"
  },
  "language_info": {
   "codemirror_mode": {
    "name": "ipython",
    "version": 3
   },
   "file_extension": ".py",
   "mimetype": "text/x-python",
   "name": "python",
   "nbconvert_exporter": "python",
   "pygments_lexer": "ipython3",
   "version": "3.10.16"
  }
 },
 "nbformat": 4,
 "nbformat_minor": 5
}
