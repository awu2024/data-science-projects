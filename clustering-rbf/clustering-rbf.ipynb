{
 "cells": [
  {
   "cell_type": "markdown",
   "id": "6699ea83-5a12-49a8-b6fd-e5975b1fb860",
   "metadata": {},
   "source": [
    "# Assignment: Clustering and Radial Basis Functions (RBF)"
   ]
  },
  {
   "cell_type": "markdown",
   "id": "544d0701-fc34-49c1-9030-5ac8715ef596",
   "metadata": {},
   "source": [
    "## - Anthony Wu and Harshitha Mallappa"
   ]
  },
  {
   "cell_type": "markdown",
   "id": "a57176dd-78d6-4a17-8ad6-512b0e28087c",
   "metadata": {},
   "source": [
    "### Problem 1"
   ]
  },
  {
   "cell_type": "markdown",
   "id": "6d210d44-00f8-425b-bdd8-1fd704b43ecc",
   "metadata": {},
   "source": [
    "1. Create a multiple linear regression model that predicts the quarterback ratings based on 'Pass Yds', 'Yds/Att', 'Att', 'Cmp', 'Cmp percent', 'TD', and 'INT'. Normalize your values using MinMaxScaler(). You will use KernelRidge from the sklearn library. Set kernel to 'linear' and alpha to zero for regularization. Use default parameter values for everything else. Keep in mind that you need to add a column of ones to your data for bias. Report MSE for the training points."
   ]
  },
  {
   "cell_type": "code",
   "execution_count": 5,
   "id": "07601875-42c2-42eb-bbce-fa7d78baa953",
   "metadata": {},
   "outputs": [],
   "source": [
    "import numpy as np\n",
    "import pandas as pd\n",
    "import warnings\n",
    "warnings.filterwarnings(\"ignore\")"
   ]
  },
  {
   "cell_type": "code",
   "execution_count": 6,
   "id": "b1d6cbb4-7dbc-4340-8295-f11e3ae682c2",
   "metadata": {},
   "outputs": [
    {
     "data": {
      "text/html": [
       "<div>\n",
       "<style scoped>\n",
       "    .dataframe tbody tr th:only-of-type {\n",
       "        vertical-align: middle;\n",
       "    }\n",
       "\n",
       "    .dataframe tbody tr th {\n",
       "        vertical-align: top;\n",
       "    }\n",
       "\n",
       "    .dataframe thead th {\n",
       "        text-align: right;\n",
       "    }\n",
       "</style>\n",
       "<table border=\"1\" class=\"dataframe\">\n",
       "  <thead>\n",
       "    <tr style=\"text-align: right;\">\n",
       "      <th></th>\n",
       "      <th>Year</th>\n",
       "      <th>Player</th>\n",
       "      <th>Pass Yds</th>\n",
       "      <th>Yds/Att</th>\n",
       "      <th>Att</th>\n",
       "      <th>Cmp</th>\n",
       "      <th>Cmp %</th>\n",
       "      <th>TD</th>\n",
       "      <th>INT</th>\n",
       "      <th>Rate</th>\n",
       "    </tr>\n",
       "  </thead>\n",
       "  <tbody>\n",
       "    <tr>\n",
       "      <th>0</th>\n",
       "      <td>2022</td>\n",
       "      <td>Jared Goff</td>\n",
       "      <td>4438</td>\n",
       "      <td>7.6</td>\n",
       "      <td>587</td>\n",
       "      <td>382</td>\n",
       "      <td>65.1</td>\n",
       "      <td>29</td>\n",
       "      <td>7</td>\n",
       "      <td>99.3</td>\n",
       "    </tr>\n",
       "    <tr>\n",
       "      <th>1</th>\n",
       "      <td>2022</td>\n",
       "      <td>Josh Allen</td>\n",
       "      <td>4283</td>\n",
       "      <td>7.6</td>\n",
       "      <td>567</td>\n",
       "      <td>359</td>\n",
       "      <td>63.3</td>\n",
       "      <td>35</td>\n",
       "      <td>14</td>\n",
       "      <td>96.6</td>\n",
       "    </tr>\n",
       "    <tr>\n",
       "      <th>2</th>\n",
       "      <td>2022</td>\n",
       "      <td>Geno Smith</td>\n",
       "      <td>4282</td>\n",
       "      <td>7.5</td>\n",
       "      <td>572</td>\n",
       "      <td>399</td>\n",
       "      <td>69.8</td>\n",
       "      <td>30</td>\n",
       "      <td>11</td>\n",
       "      <td>100.9</td>\n",
       "    </tr>\n",
       "    <tr>\n",
       "      <th>3</th>\n",
       "      <td>2022</td>\n",
       "      <td>Trevor Lawrence</td>\n",
       "      <td>4113</td>\n",
       "      <td>7.0</td>\n",
       "      <td>584</td>\n",
       "      <td>387</td>\n",
       "      <td>66.3</td>\n",
       "      <td>25</td>\n",
       "      <td>8</td>\n",
       "      <td>95.2</td>\n",
       "    </tr>\n",
       "    <tr>\n",
       "      <th>4</th>\n",
       "      <td>2022</td>\n",
       "      <td>Jalen Hurts</td>\n",
       "      <td>3701</td>\n",
       "      <td>8.0</td>\n",
       "      <td>460</td>\n",
       "      <td>306</td>\n",
       "      <td>66.5</td>\n",
       "      <td>22</td>\n",
       "      <td>6</td>\n",
       "      <td>101.6</td>\n",
       "    </tr>\n",
       "  </tbody>\n",
       "</table>\n",
       "</div>"
      ],
      "text/plain": [
       "   Year           Player  Pass Yds  Yds/Att  Att  Cmp  Cmp %  TD  INT   Rate\n",
       "0  2022       Jared Goff      4438      7.6  587  382   65.1  29    7   99.3\n",
       "1  2022       Josh Allen      4283      7.6  567  359   63.3  35   14   96.6\n",
       "2  2022       Geno Smith      4282      7.5  572  399   69.8  30   11  100.9\n",
       "3  2022  Trevor Lawrence      4113      7.0  584  387   66.3  25    8   95.2\n",
       "4  2022      Jalen Hurts      3701      8.0  460  306   66.5  22    6  101.6"
      ]
     },
     "execution_count": 6,
     "metadata": {},
     "output_type": "execute_result"
    }
   ],
   "source": [
    "# Read the csv files\n",
    "df_qb = pd.read_csv('QB2022_MLR.csv')\n",
    "df_qbtest = pd.read_csv('QB2022_MLR_test.csv')\n",
    "\n",
    "df_qb.head()"
   ]
  },
  {
   "cell_type": "code",
   "execution_count": 7,
   "id": "bbb1b9d3-34c4-4dad-a5bb-317bd64be1b0",
   "metadata": {},
   "outputs": [
    {
     "name": "stdout",
     "output_type": "stream",
     "text": [
      "Training points mse: 80.37008356584822\n"
     ]
    }
   ],
   "source": [
    "# Import MinMaxScaler, KernelRidge, and mse\n",
    "from sklearn.preprocessing import MinMaxScaler\n",
    "from sklearn.kernel_ridge import KernelRidge\n",
    "from sklearn.metrics import mean_squared_error\n",
    "\n",
    "# Use only the needed features and rate\n",
    "x_train = df_qb.drop(columns = ['Year', 'Player', 'Rate'])\n",
    "y_train = df_qb['Rate']\n",
    "\n",
    "# Normalize values with MinMaxScaler\n",
    "s = MinMaxScaler()\n",
    "x_train_s = s.fit_transform(x_train)\n",
    "\n",
    "# Add a column of ones for bias\n",
    "bias = np.hstack((np.ones((x_train_s.shape[0], 1)), x_train_s))\n",
    "\n",
    "# Create a mlr model with KernelRidge\n",
    "kr_linear_model = KernelRidge(kernel='linear', alpha = 0)\n",
    "kr_linear_model.fit(bias, y_train)\n",
    "\n",
    "# Predict ratings based on training model\n",
    "y_pred = kr_linear_model.predict(bias)\n",
    "\n",
    "# Find the mean squared error\n",
    "mse = mean_squared_error(y_train, y_pred)\n",
    "print(f'Training points mse: {mse}')"
   ]
  },
  {
   "cell_type": "markdown",
   "id": "8e7ace00-840b-4796-9cd0-d6f54ab6eca7",
   "metadata": {},
   "source": [
    "2. Create an RBF regression model that predicts the quarterback ratings based on 'Pass Yds', 'Yds/Att', 'Att', 'Cmp', 'Cmp percent', 'TD', and 'INT'. Normalize your values using MinMaxScaler(). You will use KernelRidge from the sklearn library. Set kernel to 'rbf' and alpha to zero for regularization. Use default parameter values for everything else. Keep in mind that you need to add a column of ones to your data for bias. Report MSE for the training points."
   ]
  },
  {
   "cell_type": "code",
   "execution_count": 9,
   "id": "4324b86c-6e18-43c4-a4ab-e7a0b7109b9d",
   "metadata": {},
   "outputs": [
    {
     "name": "stdout",
     "output_type": "stream",
     "text": [
      "Training points mse: 1.8395951331057207e-14\n"
     ]
    }
   ],
   "source": [
    "# Create a rbf model with KernelRidge\n",
    "kr_rbf_model = KernelRidge(kernel='rbf', alpha = 0)\n",
    "kr_rbf_model.fit(bias, y_train)\n",
    "\n",
    "# Predict ratings based on training model\n",
    "y_pred_rbf = kr_rbf_model.predict(bias)\n",
    "\n",
    "# Find the mean squared error\n",
    "mse_rbf = mean_squared_error(y_train, y_pred_rbf)\n",
    "print(f'Training points mse: {mse_rbf}')"
   ]
  },
  {
   "cell_type": "markdown",
   "id": "61adae8c-be0b-4b28-8bbf-1938cf176b70",
   "metadata": {},
   "source": [
    "3. Find and report the MSE error for test points in \"QB2022_MLR_test.csv\" using both models"
   ]
  },
  {
   "cell_type": "code",
   "execution_count": 11,
   "id": "90b099b6-fa42-4d8f-9d16-44112ae12a52",
   "metadata": {},
   "outputs": [
    {
     "name": "stdout",
     "output_type": "stream",
     "text": [
      "MLR model mse: 39.74004687499998\n",
      "RBF model mse: 2348.8015778223225\n"
     ]
    }
   ],
   "source": [
    "# Find the features and values for the test file\n",
    "x_test = df_qbtest.drop(columns = ['Year', 'Player', 'Rate'])\n",
    "y_test = df_qbtest['Rate']\n",
    "\n",
    "# Transform test features using MinMaxScaler()\n",
    "x_test_s = s.transform(x_test)\n",
    "\n",
    "# Add a column of ones for bias\n",
    "bias_test = np.hstack((np.ones((x_test_s.shape[0], 1)), x_test_s))\n",
    "\n",
    "# Predict ratings and find the mean squared error for both models using test points\n",
    "y_test_pred_l = kr_linear_model.predict(bias_test)\n",
    "test_mse_linear = mean_squared_error(y_test, y_test_pred_l)\n",
    "\n",
    "y_test_pred_rbf = kr_rbf_model.predict(bias_test)\n",
    "test_mse_rbf = mean_squared_error(y_test, y_test_pred_rbf)\n",
    "\n",
    "print(f'MLR model mse: {test_mse_linear}')\n",
    "print(f'RBF model mse: {test_mse_rbf}')"
   ]
  },
  {
   "cell_type": "markdown",
   "id": "69d24c69-a3ed-4e0b-9948-c2b4b958e464",
   "metadata": {},
   "source": [
    "4. Compare both the training and test errors for these two models, and report your observations in a couple of sentences."
   ]
  },
  {
   "cell_type": "markdown",
   "id": "21ff9306-be63-4a16-8208-0ef4410d3534",
   "metadata": {},
   "source": [
    "For the multiple linear regression model, the test model has a low error compared to the training model. For the RBF regression model, the test model has a huge error compared to the training model. We conclude that the linear model is observed to be the better choice to predict ratings, while the RBF model is unsuitable for it."
   ]
  },
  {
   "cell_type": "markdown",
   "id": "aa5960a8-1918-409e-87e1-4b62ed447e8a",
   "metadata": {},
   "source": [
    "### Problem 2"
   ]
  },
  {
   "cell_type": "markdown",
   "id": "63f1d25a-a287-460c-b602-bdd1dc2f2a67",
   "metadata": {},
   "source": [
    "In this problem you will use the data file \"kMeansData.csv\" (x1 and x2 denote the input features) to create 3 clusters using unsupervised Lloyd's k-means algorithm."
   ]
  },
  {
   "cell_type": "markdown",
   "id": "6fea1cd8-a1e8-4da6-934b-5a08af094081",
   "metadata": {},
   "source": [
    "The training should only stop if the difference between the cluster center locations in two consecutive iterations is less than 0.001 or if the number of iterations has reached 1000. For the initial selection of clusters locations choose 3 points from the data set randomly."
   ]
  },
  {
   "cell_type": "markdown",
   "id": "ffd12284-360d-4313-99e5-941f74c98601",
   "metadata": {},
   "source": [
    "After convergence, report the final cluster centers. Plot the 3 clusters in different colors with cluster centers clearly marked on the plot."
   ]
  },
  {
   "cell_type": "code",
   "execution_count": 18,
   "id": "0d7ba0fa-f3ac-41d4-8d43-24f8d0f035ea",
   "metadata": {},
   "outputs": [
    {
     "data": {
      "text/html": [
       "<div>\n",
       "<style scoped>\n",
       "    .dataframe tbody tr th:only-of-type {\n",
       "        vertical-align: middle;\n",
       "    }\n",
       "\n",
       "    .dataframe tbody tr th {\n",
       "        vertical-align: top;\n",
       "    }\n",
       "\n",
       "    .dataframe thead th {\n",
       "        text-align: right;\n",
       "    }\n",
       "</style>\n",
       "<table border=\"1\" class=\"dataframe\">\n",
       "  <thead>\n",
       "    <tr style=\"text-align: right;\">\n",
       "      <th></th>\n",
       "      <th>x1</th>\n",
       "      <th>x2</th>\n",
       "    </tr>\n",
       "  </thead>\n",
       "  <tbody>\n",
       "    <tr>\n",
       "      <th>0</th>\n",
       "      <td>1.4</td>\n",
       "      <td>0.2</td>\n",
       "    </tr>\n",
       "    <tr>\n",
       "      <th>1</th>\n",
       "      <td>1.4</td>\n",
       "      <td>0.2</td>\n",
       "    </tr>\n",
       "    <tr>\n",
       "      <th>2</th>\n",
       "      <td>1.3</td>\n",
       "      <td>0.2</td>\n",
       "    </tr>\n",
       "    <tr>\n",
       "      <th>3</th>\n",
       "      <td>1.5</td>\n",
       "      <td>0.2</td>\n",
       "    </tr>\n",
       "    <tr>\n",
       "      <th>4</th>\n",
       "      <td>1.4</td>\n",
       "      <td>0.2</td>\n",
       "    </tr>\n",
       "  </tbody>\n",
       "</table>\n",
       "</div>"
      ],
      "text/plain": [
       "    x1   x2\n",
       "0  1.4  0.2\n",
       "1  1.4  0.2\n",
       "2  1.3  0.2\n",
       "3  1.5  0.2\n",
       "4  1.4  0.2"
      ]
     },
     "execution_count": 18,
     "metadata": {},
     "output_type": "execute_result"
    }
   ],
   "source": [
    "import matplotlib.pyplot as plt\n",
    "# Read the csv file\n",
    "df_kmeans = pd.read_csv('kMeansData.csv')\n",
    "df_kmeans.head()"
   ]
  },
  {
   "cell_type": "code",
   "execution_count": 19,
   "id": "e9a49ac5-758a-4959-a0e1-7baa0409a246",
   "metadata": {},
   "outputs": [
    {
     "data": {
      "image/png": "[encoded data removed]",
      "text/plain": [
       "<Figure size 640x480 with 1 Axes>"
      ]
     },
     "metadata": {},
     "output_type": "display_data"
    }
   ],
   "source": [
    "# Visualize the initial data points\n",
    "x1 = df_kmeans['x1'].to_numpy()\n",
    "x2 = df_kmeans['x2'].to_numpy()\n",
    "\n",
    "plt.scatter(x1, x2)\n",
    "plt.show()"
   ]
  },
  {
   "cell_type": "code",
   "execution_count": 20,
   "id": "353defb4-8cf4-4ac9-80b6-a74361117e68",
   "metadata": {},
   "outputs": [
    {
     "name": "stdout",
     "output_type": "stream",
     "text": [
      "[[4.7 1.2]\n",
      " [1.7 0.3]\n",
      " [6.9 2.3]]\n",
      "[0.35766244 0.21115562 0.85190197]\n",
      "[0.18038161 0.03449398 0.2079048 ]\n",
      "[0.07578458 0.         0.09495982]\n",
      "[0.05600437 0.         0.07047666]\n",
      "[0.04191613 0.         0.05072656]\n",
      "[0.01376551 0.         0.01664469]\n",
      "[0.01490149 0.         0.01687837]\n",
      "[0. 0. 0.]\n",
      "[0. 0. 0.]\n"
     ]
    },
    {
     "data": {
      "text/plain": [
       "([[4.292592592592594, 1.3592592592592592],\n",
       "  [1.4620000000000002, 0.24599999999999997],\n",
       "  [5.626086956521738, 2.0478260869565217]],\n",
       " 8)"
      ]
     },
     "execution_count": 20,
     "metadata": {},
     "output_type": "execute_result"
    }
   ],
   "source": [
    "# Set random seed to 42\n",
    "np.random.seed(42)\n",
    "# Create three random points\n",
    "centers = df_kmeans.sample(n=3, random_state=42).values\n",
    "print(centers)\n",
    "\n",
    "# Create a color_labels list, which we would use later to plot the points\n",
    "color_labels = []\n",
    "consec = 0\n",
    "# Set for loop iterations to 1000\n",
    "for i in range(1000):\n",
    "\n",
    "    # Find distances between inputs and centers\n",
    "    distance_list = []\n",
    "    for j in range(3):\n",
    "        d = np.sqrt(np.square(centers[j][0] - x1) + np.square(centers[j][1] - x2))\n",
    "        distance_list.append(d)\n",
    "\n",
    "    # Find the indices of the nearest center for each point\n",
    "    labels = []\n",
    "    for k in range(len(x1)):\n",
    "        min_index = np.argmin([distance_list[0][k], distance_list[1][k], distance_list[2][k]])\n",
    "        labels.append(min_index)\n",
    "\n",
    "    # Find the new centers using the rearranged points\n",
    "    new_centers = []\n",
    "    for m in range(3):\n",
    "        x1_list = []\n",
    "        x2_list = []\n",
    "        for n in range(len(labels)):\n",
    "            if (labels[n] == m):\n",
    "                x1_list.append(x1[n])\n",
    "                x2_list.append(x2[n])\n",
    "        x1_mean = np.mean(x1_list)\n",
    "        x2_mean = np.mean(x2_list)\n",
    "        new_centers.append([x1_mean, x2_mean])\n",
    "\n",
    "    # Find the Euclidean distance of the old and new centers \n",
    "    difference_list = []\n",
    "    for m in range(3):\n",
    "        diff = np.sqrt(np.square(new_centers[m][0] - centers[m][0]) + np.square(new_centers[m][1] - centers[m][1]))\n",
    "        difference_list.append(diff)\n",
    "\n",
    "    # Find if all center distances are less than 0.001\n",
    "    d_list = np.array(difference_list)\n",
    "    print(d_list)\n",
    "    \n",
    "    if ((d_list[0] < 0.001) and (d_list[1] < 0.001) and (d_list[2] < 0.001)):\n",
    "        consec += 1\n",
    "        if (consec == 2):\n",
    "            color_labels = labels\n",
    "            break\n",
    "    else:\n",
    "        consec = 0\n",
    "    # If not less than 0.001, assign new centers as current centers\n",
    "    centers = new_centers\n",
    "\n",
    "centers, i"
   ]
  },
  {
   "cell_type": "code",
   "execution_count": 21,
   "id": "e241a86f-7db6-4854-8204-aa95303d5f21",
   "metadata": {},
   "outputs": [
    {
     "data": {
      "image/png": "[encoded data removed]",
      "text/plain": [
       "<Figure size 800x600 with 1 Axes>"
      ]
     },
     "metadata": {},
     "output_type": "display_data"
    },
    {
     "name": "stdout",
     "output_type": "stream",
     "text": [
      "Final Cluster Centers:\n",
      " [[4.292592592592594, 1.3592592592592592], [1.4620000000000002, 0.24599999999999997], [5.626086956521738, 2.0478260869565217]]\n"
     ]
    }
   ],
   "source": [
    "# Plot results\n",
    "plt.figure(figsize=(8, 6))\n",
    "colors = ['r', 'g', 'b']\n",
    "for i in range(3):\n",
    "    x1_color = []\n",
    "    x2_color = []\n",
    "\n",
    "    for j in range(len(color_labels)):\n",
    "        if (color_labels[j] == i):\n",
    "            x1_color.append(x1[j])\n",
    "            x2_color.append(x2[j])\n",
    "    \n",
    "    plt.scatter(x1_color, x2_color, s=30, c=colors[i], label=f'Cluster {i+1}')\n",
    "    plt.scatter(centers[i][0], centers[i][1], s=200, color='k', marker='x', linewidths=3)\n",
    "\n",
    "plt.xlabel('x1')\n",
    "plt.ylabel('x2')\n",
    "plt.title('K-Means Clustering')\n",
    "plt.legend()\n",
    "plt.show()\n",
    "\n",
    "# Print final cluster centers\n",
    "print(\"Final Cluster Centers:\\n\", centers)"
   ]
  },
  {
   "cell_type": "markdown",
   "id": "d02d45b7-2111-4ace-ba61-0cbeb8fd27de",
   "metadata": {},
   "source": [
    "### Problem 3"
   ]
  },
  {
   "cell_type": "markdown",
   "id": "f95d26bd-31fb-4f00-9fd4-45476670afb0",
   "metadata": {},
   "source": [
    "In this problem you will use the data file \"rbfClassification.csv\" to create an RBF Network model for classification. x1 and x2 denote the input features and cls denotes the target class of the corresponding data points."
   ]
  },
  {
   "cell_type": "markdown",
   "id": "5e3f9b85-3f31-4da6-9d20-e4eba2f0f166",
   "metadata": {},
   "source": [
    "1. Use k-means clustering to determine the location of 2 cluster centers that you will use in your RBF model. Report the coordinate of the cluster centers."
   ]
  },
  {
   "cell_type": "code",
   "execution_count": 25,
   "id": "916f17f2-f9d0-45f6-83eb-f8f9e963c891",
   "metadata": {},
   "outputs": [
    {
     "data": {
      "text/html": [
       "<div>\n",
       "<style scoped>\n",
       "    .dataframe tbody tr th:only-of-type {\n",
       "        vertical-align: middle;\n",
       "    }\n",
       "\n",
       "    .dataframe tbody tr th {\n",
       "        vertical-align: top;\n",
       "    }\n",
       "\n",
       "    .dataframe thead th {\n",
       "        text-align: right;\n",
       "    }\n",
       "</style>\n",
       "<table border=\"1\" class=\"dataframe\">\n",
       "  <thead>\n",
       "    <tr style=\"text-align: right;\">\n",
       "      <th></th>\n",
       "      <th>x1</th>\n",
       "      <th>x2</th>\n",
       "      <th>cls</th>\n",
       "    </tr>\n",
       "  </thead>\n",
       "  <tbody>\n",
       "    <tr>\n",
       "      <th>0</th>\n",
       "      <td>-2.427236</td>\n",
       "      <td>1.965984</td>\n",
       "      <td>1</td>\n",
       "    </tr>\n",
       "    <tr>\n",
       "      <th>1</th>\n",
       "      <td>2.382605</td>\n",
       "      <td>2.256614</td>\n",
       "      <td>0</td>\n",
       "    </tr>\n",
       "    <tr>\n",
       "      <th>2</th>\n",
       "      <td>-2.680668</td>\n",
       "      <td>2.379979</td>\n",
       "      <td>1</td>\n",
       "    </tr>\n",
       "    <tr>\n",
       "      <th>3</th>\n",
       "      <td>-2.620277</td>\n",
       "      <td>2.913823</td>\n",
       "      <td>0</td>\n",
       "    </tr>\n",
       "    <tr>\n",
       "      <th>4</th>\n",
       "      <td>1.513792</td>\n",
       "      <td>-2.312650</td>\n",
       "      <td>0</td>\n",
       "    </tr>\n",
       "    <tr>\n",
       "      <th>5</th>\n",
       "      <td>2.460894</td>\n",
       "      <td>-2.295289</td>\n",
       "      <td>1</td>\n",
       "    </tr>\n",
       "    <tr>\n",
       "      <th>6</th>\n",
       "      <td>0.921995</td>\n",
       "      <td>-2.685112</td>\n",
       "      <td>0</td>\n",
       "    </tr>\n",
       "    <tr>\n",
       "      <th>7</th>\n",
       "      <td>-0.505379</td>\n",
       "      <td>-2.301417</td>\n",
       "      <td>0</td>\n",
       "    </tr>\n",
       "    <tr>\n",
       "      <th>8</th>\n",
       "      <td>-0.279911</td>\n",
       "      <td>-0.520869</td>\n",
       "      <td>0</td>\n",
       "    </tr>\n",
       "    <tr>\n",
       "      <th>9</th>\n",
       "      <td>-1.742365</td>\n",
       "      <td>2.969098</td>\n",
       "      <td>1</td>\n",
       "    </tr>\n",
       "    <tr>\n",
       "      <th>10</th>\n",
       "      <td>2.617188</td>\n",
       "      <td>0.929069</td>\n",
       "      <td>0</td>\n",
       "    </tr>\n",
       "    <tr>\n",
       "      <th>11</th>\n",
       "      <td>1.957733</td>\n",
       "      <td>2.459680</td>\n",
       "      <td>1</td>\n",
       "    </tr>\n",
       "    <tr>\n",
       "      <th>12</th>\n",
       "      <td>2.178197</td>\n",
       "      <td>-2.445139</td>\n",
       "      <td>0</td>\n",
       "    </tr>\n",
       "    <tr>\n",
       "      <th>13</th>\n",
       "      <td>-0.736680</td>\n",
       "      <td>-1.383044</td>\n",
       "      <td>0</td>\n",
       "    </tr>\n",
       "    <tr>\n",
       "      <th>14</th>\n",
       "      <td>-0.587215</td>\n",
       "      <td>2.287456</td>\n",
       "      <td>1</td>\n",
       "    </tr>\n",
       "    <tr>\n",
       "      <th>15</th>\n",
       "      <td>2.252204</td>\n",
       "      <td>1.081803</td>\n",
       "      <td>0</td>\n",
       "    </tr>\n",
       "    <tr>\n",
       "      <th>16</th>\n",
       "      <td>0.464911</td>\n",
       "      <td>1.580493</td>\n",
       "      <td>0</td>\n",
       "    </tr>\n",
       "    <tr>\n",
       "      <th>17</th>\n",
       "      <td>-2.836300</td>\n",
       "      <td>0.786740</td>\n",
       "      <td>1</td>\n",
       "    </tr>\n",
       "    <tr>\n",
       "      <th>18</th>\n",
       "      <td>1.755788</td>\n",
       "      <td>0.780542</td>\n",
       "      <td>0</td>\n",
       "    </tr>\n",
       "    <tr>\n",
       "      <th>19</th>\n",
       "      <td>-2.926976</td>\n",
       "      <td>1.583028</td>\n",
       "      <td>1</td>\n",
       "    </tr>\n",
       "  </tbody>\n",
       "</table>\n",
       "</div>"
      ],
      "text/plain": [
       "          x1        x2  cls\n",
       "0  -2.427236  1.965984    1\n",
       "1   2.382605  2.256614    0\n",
       "2  -2.680668  2.379979    1\n",
       "3  -2.620277  2.913823    0\n",
       "4   1.513792 -2.312650    0\n",
       "5   2.460894 -2.295289    1\n",
       "6   0.921995 -2.685112    0\n",
       "7  -0.505379 -2.301417    0\n",
       "8  -0.279911 -0.520869    0\n",
       "9  -1.742365  2.969098    1\n",
       "10  2.617188  0.929069    0\n",
       "11  1.957733  2.459680    1\n",
       "12  2.178197 -2.445139    0\n",
       "13 -0.736680 -1.383044    0\n",
       "14 -0.587215  2.287456    1\n",
       "15  2.252204  1.081803    0\n",
       "16  0.464911  1.580493    0\n",
       "17 -2.836300  0.786740    1\n",
       "18  1.755788  0.780542    0\n",
       "19 -2.926976  1.583028    1"
      ]
     },
     "execution_count": 25,
     "metadata": {},
     "output_type": "execute_result"
    }
   ],
   "source": [
    "# Read the csv file\n",
    "\n",
    "df_rbfC = pd.read_csv('rbfClassification.csv')\n",
    "df_rbfC"
   ]
  },
  {
   "cell_type": "code",
   "execution_count": 26,
   "id": "959b43e9-2265-4067-9af5-0349640241c0",
   "metadata": {},
   "outputs": [
    {
     "data": {
      "text/plain": [
       "array([[ 1.30641042, -0.37348593],\n",
       "       [-2.26014807,  2.1265868 ]])"
      ]
     },
     "execution_count": 26,
     "metadata": {},
     "output_type": "execute_result"
    }
   ],
   "source": [
    "# Use k-means clustering to find the cluster center\n",
    "from sklearn.cluster import KMeans\n",
    "\n",
    "x_values = df_rbfC[['x1','x2']]\n",
    "\n",
    "kmeans = KMeans(n_clusters=2, random_state=42, n_init=10)\n",
    "kmeans.fit(x_values)\n",
    "\n",
    "c_centers = kmeans.cluster_centers_\n",
    "c_centers"
   ]
  },
  {
   "cell_type": "markdown",
   "id": "6c8a31de-a99e-4120-b3c5-e2d3fb259280",
   "metadata": {},
   "source": [
    "The cluster centers are (1.30641042, -0.37348593) and (-2.26014807, 2.1265868)."
   ]
  },
  {
   "cell_type": "markdown",
   "id": "eb22af5d-04cb-43f8-94a4-65fc913989d2",
   "metadata": {},
   "source": [
    "2. Train an RBF Network using gamma = 0.5. Report the correct classification rate of your model"
   ]
  },
  {
   "cell_type": "code",
   "execution_count": 29,
   "id": "1bcc59f7-ef0f-40a3-9998-2a0223698ed8",
   "metadata": {},
   "outputs": [
    {
     "data": {
      "text/plain": [
       "array([[6.08793323e-05, 9.73501568e-01],\n",
       "       [1.76360525e-02, 2.06864905e-05],\n",
       "       [7.97514495e-06, 8.86457406e-01],\n",
       "       [2.01954677e-06, 6.87483886e-01],\n",
       "       [1.49317256e-01, 4.24591574e-08],\n",
       "       [8.10184158e-02, 8.20908647e-10],\n",
       "       [6.42036590e-02, 5.93841810e-08],\n",
       "       [3.02049504e-02, 1.18496230e-05],\n",
       "       [2.81093152e-01, 4.23157358e-03],\n",
       "       [3.59295533e-05, 6.13262746e-01],\n",
       "       [1.81337832e-01, 3.33437392e-06],\n",
       "       [1.46176368e-02, 1.29641495e-04],\n",
       "       [7.99880409e-02, 1.52726142e-09],\n",
       "       [7.45181394e-02, 6.62672257e-04],\n",
       "       [4.82852655e-03, 2.43584163e-01],\n",
       "       [2.21752059e-01, 2.19564679e-05],\n",
       "       [1.04029724e-01, 2.10241949e-02],\n",
       "       [9.57196993e-05, 3.45221216e-01],\n",
       "       [4.64469067e-01, 1.27194771e-04],\n",
       "       [1.89301890e-05, 6.90694304e-01]])"
      ]
     },
     "execution_count": 29,
     "metadata": {},
     "output_type": "execute_result"
    }
   ],
   "source": [
    "# Apply the Gaussian RBF function\n",
    "\n",
    "x1 = x_values['x1']\n",
    "x2 = x_values['x2']\n",
    "\n",
    "g1 = np.exp(-0.5 * (np.square(x1 - c_centers[0][0]) + np.square(x2 - c_centers[0][1])))\n",
    "g2 = np.exp(-0.5 * (np.square(x1 - c_centers[1][0]) + np.square(x2 - c_centers[1][1])))\n",
    "\n",
    "phi = np.column_stack((g1, g2))\n",
    "phi"
   ]
  },
  {
   "cell_type": "code",
   "execution_count": 30,
   "id": "21320196-6a78-48de-9914-4b6e1058d5c1",
   "metadata": {},
   "outputs": [
    {
     "data": {
      "text/plain": [
       "array([[0.21915424],\n",
       "       [1.15858194]])"
      ]
     },
     "execution_count": 30,
     "metadata": {},
     "output_type": "execute_result"
    }
   ],
   "source": [
    "# Find the weights\n",
    "y = df_rbfC[['cls']].values\n",
    "\n",
    "w = np.linalg.inv(phi.T@phi)@phi.T@y\n",
    "w"
   ]
  },
  {
   "cell_type": "code",
   "execution_count": 31,
   "id": "b0fe3ff8-d962-4cbf-a214-58f6a91befb3",
   "metadata": {},
   "outputs": [
    {
     "data": {
      "text/plain": [
       "[1, 0, 1, 1, 0, 0, 0, 0, 0, 1, 0, 0, 0, 0, 0, 0, 0, 0, 0, 1]"
      ]
     },
     "execution_count": 31,
     "metadata": {},
     "output_type": "execute_result"
    }
   ],
   "source": [
    "# Use the weights to predict cls for each point\n",
    "pred_list = []\n",
    "\n",
    "for i in range(len(phi)):\n",
    "    y_pred = w[0]*phi[i][0] + w[1]*phi[i][1]\n",
    "    if (y_pred < 0.5):\n",
    "        pred_list.append(0)\n",
    "    else:\n",
    "        pred_list.append(1)\n",
    "pred_list"
   ]
  },
  {
   "cell_type": "code",
   "execution_count": 32,
   "id": "df591ff0-5a4e-4c87-9052-1059cf870b17",
   "metadata": {},
   "outputs": [
    {
     "name": "stdout",
     "output_type": "stream",
     "text": [
      "Correct classification rate: 75.00%\n"
     ]
    }
   ],
   "source": [
    "# Determine the classification rate\n",
    "accuracy = np.mean(pred_list == df_rbfC['cls'].values)\n",
    "print(f'Correct classification rate: {accuracy:.2%}')"
   ]
  }
 ],
 "metadata": {
  "kernelspec": {
   "display_name": "Python 3 (ipykernel)",
   "language": "python",
   "name": "python3"
  },
  "language_info": {
   "codemirror_mode": {
    "name": "ipython",
    "version": 3
   },
   "file_extension": ".py",
   "mimetype": "text/x-python",
   "name": "python",
   "nbconvert_exporter": "python",
   "pygments_lexer": "ipython3",
   "version": "3.12.4"
  }
 },
 "nbformat": 4,
 "nbformat_minor": 5
}
