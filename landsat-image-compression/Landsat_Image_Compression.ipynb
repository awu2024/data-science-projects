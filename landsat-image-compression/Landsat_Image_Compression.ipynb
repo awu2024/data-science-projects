{
 "cells": [
  {
   "cell_type": "markdown",
   "id": "7a16ffcc-c956-4668-bc21-579f152a361c",
   "metadata": {},
   "source": [
    "# Landsat Image Compression using PCA"
   ]
  },
  {
   "cell_type": "markdown",
   "id": "45b6a8b6-43f4-49bd-88c1-358e9cb6ebeb",
   "metadata": {},
   "source": [
    "### 1. Load the 5 images and plot them. Make sure the name of the file is displayed on the title of the relevant image. (4 points)"
   ]
  },
  {
   "cell_type": "code",
   "execution_count": null,
   "id": "2d06b615-4ceb-4e26-890f-25c21b307d20",
   "metadata": {},
   "outputs": [],
   "source": [
    "import numpy as np\n",
    "import pandas as pd\n",
    "import statsmodels.api as sm\n",
    "import os\n",
    "from PIL import Image\n",
    "from sklearn.pipeline import Pipeline\n",
    "from sklearn.preprocessing import MinMaxScaler\n",
    "from sklearn.decomposition import PCA\n",
    "import plotly.express as px"
   ]
  },
  {
   "cell_type": "code",
   "execution_count": null,
   "id": "95511c08-bbb0-4241-a974-027225c28567",
   "metadata": {},
   "outputs": [],
   "source": [
    "path = 'Data_export/Landsat Images/'\n",
    "X = []\n",
    "for imgFile in os.listdir(path):\n",
    "    # Read all images in the folder\n",
    "    imgArray = np.array(Image.open(os.path.join(path, imgFile)))\n",
    "    # Plot the images with the name of the file displayed on the title\n",
    "    imgshow = px.imshow(imgArray, binary_string = True, title = imgFile)\n",
    "    imgshow.show()\n",
    "    # Stack all images together\n",
    "    X.append(imgArray)"
   ]
  },
  {
   "cell_type": "markdown",
   "id": "16dbfe57-f94f-4149-9204-d21761b940fb",
   "metadata": {},
   "source": [
    "### 2. Set up a pipeline that scales the values linearly between 0 and 1 and applies PCA such that 5 images from different wavelengths are combined to 1 channel data. (2 points)"
   ]
  },
  {
   "cell_type": "code",
   "execution_count": null,
   "id": "07c24609-c7b4-4d1a-bd56-6dc33852c492",
   "metadata": {},
   "outputs": [],
   "source": [
    "# Convert X to np.array\n",
    "X = np.array(X)\n",
    "print(X.shape)"
   ]
  },
  {
   "cell_type": "code",
   "execution_count": null,
   "id": "81aa6fee-1b35-4a52-8d39-f537f40dc9c9",
   "metadata": {},
   "outputs": [],
   "source": [
    "# Setting up pipeline that scales between 0 and 1\n",
    "# Since we are combining 5 images into 1 channel data, we set components = 1\n",
    "my_pca_pipeline = Pipeline(\n",
    "    steps = [\n",
    "        ('scale', MinMaxScaler()), \n",
    "        ('pca', PCA(n_components = 1))\n",
    "    ]\n",
    ")"
   ]
  },
  {
   "cell_type": "code",
   "execution_count": null,
   "id": "1c06ca6e-cf94-40b2-a800-24094748315f",
   "metadata": {},
   "outputs": [],
   "source": [
    "X_train = X.reshape(X.shape[0],X.shape[1]*X.shape[2])\n",
    "# We need to transpose X_train because the number of samples are pixels\n",
    "# and the number of features are the images\n",
    "X_train = X_train.T\n",
    "X_train.shape"
   ]
  },
  {
   "cell_type": "code",
   "execution_count": null,
   "id": "d48d94af-0e44-42fd-95c8-f5785e697859",
   "metadata": {},
   "outputs": [],
   "source": [
    "my_pca_pipeline.fit(X_train)"
   ]
  },
  {
   "cell_type": "markdown",
   "id": "adf12a60-96cc-4d74-96ad-536862900622",
   "metadata": {},
   "source": [
    "### 3. Report the number of features and the number of samples. (2 points)"
   ]
  },
  {
   "cell_type": "code",
   "execution_count": null,
   "id": "07a64971-3988-4238-a18c-9a33d7f5dbdd",
   "metadata": {},
   "outputs": [],
   "source": [
    "print('Number of features:' , my_pca_pipeline[-1].n_features_in_)\n",
    "print('Number of samples:', my_pca_pipeline[-1].n_samples_)"
   ]
  },
  {
   "cell_type": "markdown",
   "id": "e3b03d71-52d3-4fea-b1e5-8363ed60f482",
   "metadata": {},
   "source": [
    "### 4. What are the PCA directions? (2 points)"
   ]
  },
  {
   "cell_type": "code",
   "execution_count": null,
   "id": "8ebf7c72-c573-4a34-964b-f9f818d6cc22",
   "metadata": {},
   "outputs": [],
   "source": [
    "print('PCA direction:', my_pca_pipeline[-1].components_)"
   ]
  },
  {
   "cell_type": "markdown",
   "id": "d085ee51-dfcf-459f-a5ed-d2948a12bf57",
   "metadata": {},
   "source": [
    "### 5. What is the explained variance ratio when using only this 1 image? (2 points)"
   ]
  },
  {
   "cell_type": "code",
   "execution_count": null,
   "id": "48ec8cee-f378-4c37-880b-ddb568b5bc0b",
   "metadata": {},
   "outputs": [],
   "source": [
    "print('ratio:', my_pca_pipeline[-1].explained_variance_ratio_)"
   ]
  },
  {
   "cell_type": "markdown",
   "id": "bdb0e8fb-e468-439b-80eb-17b04f0d74a6",
   "metadata": {},
   "source": [
    "### 6. What is the value of the last pixel in the new image? (2 points)"
   ]
  },
  {
   "cell_type": "code",
   "execution_count": null,
   "id": "25bf79c9-64bc-4411-8282-33379938857b",
   "metadata": {},
   "outputs": [],
   "source": [
    "pcaX = my_pca_pipeline.transform(X_train)\n",
    "pcaX[-1]"
   ]
  },
  {
   "cell_type": "markdown",
   "id": "5a022c11-09af-4da3-975d-a3da79e02790",
   "metadata": {},
   "source": [
    "The value of the last pixel in the new image is 1.10282599."
   ]
  },
  {
   "cell_type": "markdown",
   "id": "73b20283-428e-4643-8d7f-2dc2651747d3",
   "metadata": {},
   "source": [
    "### 7. Display the new image. (6 points)"
   ]
  },
  {
   "cell_type": "code",
   "execution_count": null,
   "id": "021d1cba-a37b-4b49-b30e-e6c4f9d655b5",
   "metadata": {},
   "outputs": [],
   "source": [
    "# We only have one image, pcaX\n",
    "finalfig = px.imshow(pcaX.reshape(X.shape[1], X.shape[2]), binary_string = True)\n",
    "finalfig.update_layout (title = 'New image')\n",
    "finalfig.show()"
   ]
  }
 ],
 "metadata": {
  "kernelspec": {
   "display_name": "Python [conda env:base] *",
   "language": "python",
   "name": "conda-base-py"
  },
  "language_info": {
   "codemirror_mode": {
    "name": "ipython",
    "version": 3
   },
   "file_extension": ".py",
   "mimetype": "text/x-python",
   "name": "python",
   "nbconvert_exporter": "python",
   "pygments_lexer": "ipython3",
   "version": "3.12.4"
  }
 },
 "nbformat": 4,
 "nbformat_minor": 5
}
