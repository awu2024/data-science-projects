{
 "cells": [
  {
   "cell_type": "markdown",
   "id": "c7065ede-6243-4f93-a2b2-bb95a2ef7504",
   "metadata": {},
   "source": [
    "# Linear Regression Assignment"
   ]
  },
  {
   "cell_type": "markdown",
   "id": "ef343efe-b3de-45c1-8a7e-e9d3c191691d",
   "metadata": {},
   "source": [
    "## PART 1: MLR"
   ]
  },
  {
   "cell_type": "markdown",
   "id": "aea323a5-be21-4092-8535-dad930f68a1f",
   "metadata": {},
   "source": [
    "### Create a multiple linear regression model that would predict the rating based on all the available features (except year and name) using linear algebra approach (inv or pinv). Provide the model parameters."
   ]
  },
  {
   "cell_type": "code",
   "execution_count": 4,
   "id": "d6193342-0b15-480b-afba-60c1dd54e14e",
   "metadata": {},
   "outputs": [],
   "source": [
    "import numpy as np\n",
    "import pandas as pd"
   ]
  },
  {
   "cell_type": "code",
   "execution_count": 5,
   "id": "18f8118d-0762-4625-81fb-6cb3004bc356",
   "metadata": {},
   "outputs": [
    {
     "data": {
      "text/html": [
       "<div>\n",
       "<style scoped>\n",
       "    .dataframe tbody tr th:only-of-type {\n",
       "        vertical-align: middle;\n",
       "    }\n",
       "\n",
       "    .dataframe tbody tr th {\n",
       "        vertical-align: top;\n",
       "    }\n",
       "\n",
       "    .dataframe thead th {\n",
       "        text-align: right;\n",
       "    }\n",
       "</style>\n",
       "<table border=\"1\" class=\"dataframe\">\n",
       "  <thead>\n",
       "    <tr style=\"text-align: right;\">\n",
       "      <th></th>\n",
       "      <th>Year</th>\n",
       "      <th>Player</th>\n",
       "      <th>Pass Yds</th>\n",
       "      <th>Yds/Att</th>\n",
       "      <th>Att</th>\n",
       "      <th>Cmp</th>\n",
       "      <th>Cmp %</th>\n",
       "      <th>TD</th>\n",
       "      <th>INT</th>\n",
       "      <th>Rate</th>\n",
       "    </tr>\n",
       "  </thead>\n",
       "  <tbody>\n",
       "    <tr>\n",
       "      <th>0</th>\n",
       "      <td>2022</td>\n",
       "      <td>Jared Goff</td>\n",
       "      <td>4438</td>\n",
       "      <td>7.6</td>\n",
       "      <td>587</td>\n",
       "      <td>382</td>\n",
       "      <td>65.1</td>\n",
       "      <td>29</td>\n",
       "      <td>7</td>\n",
       "      <td>99.3</td>\n",
       "    </tr>\n",
       "    <tr>\n",
       "      <th>1</th>\n",
       "      <td>2022</td>\n",
       "      <td>Josh Allen</td>\n",
       "      <td>4283</td>\n",
       "      <td>7.6</td>\n",
       "      <td>567</td>\n",
       "      <td>359</td>\n",
       "      <td>63.3</td>\n",
       "      <td>35</td>\n",
       "      <td>14</td>\n",
       "      <td>96.6</td>\n",
       "    </tr>\n",
       "    <tr>\n",
       "      <th>2</th>\n",
       "      <td>2022</td>\n",
       "      <td>Geno Smith</td>\n",
       "      <td>4282</td>\n",
       "      <td>7.5</td>\n",
       "      <td>572</td>\n",
       "      <td>399</td>\n",
       "      <td>69.8</td>\n",
       "      <td>30</td>\n",
       "      <td>11</td>\n",
       "      <td>100.9</td>\n",
       "    </tr>\n",
       "    <tr>\n",
       "      <th>3</th>\n",
       "      <td>2022</td>\n",
       "      <td>Trevor Lawrence</td>\n",
       "      <td>4113</td>\n",
       "      <td>7.0</td>\n",
       "      <td>584</td>\n",
       "      <td>387</td>\n",
       "      <td>66.3</td>\n",
       "      <td>25</td>\n",
       "      <td>8</td>\n",
       "      <td>95.2</td>\n",
       "    </tr>\n",
       "    <tr>\n",
       "      <th>4</th>\n",
       "      <td>2022</td>\n",
       "      <td>Jalen Hurts</td>\n",
       "      <td>3701</td>\n",
       "      <td>8.0</td>\n",
       "      <td>460</td>\n",
       "      <td>306</td>\n",
       "      <td>66.5</td>\n",
       "      <td>22</td>\n",
       "      <td>6</td>\n",
       "      <td>101.6</td>\n",
       "    </tr>\n",
       "  </tbody>\n",
       "</table>\n",
       "</div>"
      ],
      "text/plain": [
       "   Year           Player  Pass Yds  Yds/Att  Att  Cmp  Cmp %  TD  INT   Rate\n",
       "0  2022       Jared Goff      4438      7.6  587  382   65.1  29    7   99.3\n",
       "1  2022       Josh Allen      4283      7.6  567  359   63.3  35   14   96.6\n",
       "2  2022       Geno Smith      4282      7.5  572  399   69.8  30   11  100.9\n",
       "3  2022  Trevor Lawrence      4113      7.0  584  387   66.3  25    8   95.2\n",
       "4  2022      Jalen Hurts      3701      8.0  460  306   66.5  22    6  101.6"
      ]
     },
     "execution_count": 5,
     "metadata": {},
     "output_type": "execute_result"
    }
   ],
   "source": [
    "# Read the CSV file\n",
    "df = pd.read_csv('QB2022_MLR.csv')\n",
    "df.head()"
   ]
  },
  {
   "cell_type": "code",
   "execution_count": 6,
   "id": "7c122471-6b61-42fa-93a5-26b8dad76ab3",
   "metadata": {},
   "outputs": [
    {
     "data": {
      "text/html": [
       "<div>\n",
       "<style scoped>\n",
       "    .dataframe tbody tr th:only-of-type {\n",
       "        vertical-align: middle;\n",
       "    }\n",
       "\n",
       "    .dataframe tbody tr th {\n",
       "        vertical-align: top;\n",
       "    }\n",
       "\n",
       "    .dataframe thead th {\n",
       "        text-align: right;\n",
       "    }\n",
       "</style>\n",
       "<table border=\"1\" class=\"dataframe\">\n",
       "  <thead>\n",
       "    <tr style=\"text-align: right;\">\n",
       "      <th></th>\n",
       "      <th>Pass Yds</th>\n",
       "      <th>Yds/Att</th>\n",
       "      <th>Att</th>\n",
       "      <th>Cmp</th>\n",
       "      <th>Cmp %</th>\n",
       "      <th>TD</th>\n",
       "      <th>INT</th>\n",
       "      <th>Rate</th>\n",
       "    </tr>\n",
       "  </thead>\n",
       "  <tbody>\n",
       "    <tr>\n",
       "      <th>0</th>\n",
       "      <td>4438</td>\n",
       "      <td>7.6</td>\n",
       "      <td>587</td>\n",
       "      <td>382</td>\n",
       "      <td>65.1</td>\n",
       "      <td>29</td>\n",
       "      <td>7</td>\n",
       "      <td>99.3</td>\n",
       "    </tr>\n",
       "    <tr>\n",
       "      <th>1</th>\n",
       "      <td>4283</td>\n",
       "      <td>7.6</td>\n",
       "      <td>567</td>\n",
       "      <td>359</td>\n",
       "      <td>63.3</td>\n",
       "      <td>35</td>\n",
       "      <td>14</td>\n",
       "      <td>96.6</td>\n",
       "    </tr>\n",
       "    <tr>\n",
       "      <th>2</th>\n",
       "      <td>4282</td>\n",
       "      <td>7.5</td>\n",
       "      <td>572</td>\n",
       "      <td>399</td>\n",
       "      <td>69.8</td>\n",
       "      <td>30</td>\n",
       "      <td>11</td>\n",
       "      <td>100.9</td>\n",
       "    </tr>\n",
       "    <tr>\n",
       "      <th>3</th>\n",
       "      <td>4113</td>\n",
       "      <td>7.0</td>\n",
       "      <td>584</td>\n",
       "      <td>387</td>\n",
       "      <td>66.3</td>\n",
       "      <td>25</td>\n",
       "      <td>8</td>\n",
       "      <td>95.2</td>\n",
       "    </tr>\n",
       "    <tr>\n",
       "      <th>4</th>\n",
       "      <td>3701</td>\n",
       "      <td>8.0</td>\n",
       "      <td>460</td>\n",
       "      <td>306</td>\n",
       "      <td>66.5</td>\n",
       "      <td>22</td>\n",
       "      <td>6</td>\n",
       "      <td>101.6</td>\n",
       "    </tr>\n",
       "  </tbody>\n",
       "</table>\n",
       "</div>"
      ],
      "text/plain": [
       "   Pass Yds  Yds/Att  Att  Cmp  Cmp %  TD  INT   Rate\n",
       "0      4438      7.6  587  382   65.1  29    7   99.3\n",
       "1      4283      7.6  567  359   63.3  35   14   96.6\n",
       "2      4282      7.5  572  399   69.8  30   11  100.9\n",
       "3      4113      7.0  584  387   66.3  25    8   95.2\n",
       "4      3701      8.0  460  306   66.5  22    6  101.6"
      ]
     },
     "execution_count": 6,
     "metadata": {},
     "output_type": "execute_result"
    }
   ],
   "source": [
    "# Drop the year and player columns\n",
    "dfrate = df.drop(columns = ['Year', 'Player'])\n",
    "dfrate.head()"
   ]
  },
  {
   "cell_type": "code",
   "execution_count": 7,
   "id": "3461ca90-31e1-49d3-af97-8307d94e0a21",
   "metadata": {},
   "outputs": [
    {
     "name": "stdout",
     "output_type": "stream",
     "text": [
      "(70,)\n"
     ]
    },
    {
     "data": {
      "text/plain": [
       "(70, 7)"
      ]
     },
     "execution_count": 7,
     "metadata": {},
     "output_type": "execute_result"
    }
   ],
   "source": [
    "# Use the linear algebra to predict rating\n",
    "# Let the output (vector b) be Rate\n",
    "b = dfrate['Rate']\n",
    "print(b.shape)\n",
    "# This shows us the shape of the input (first 7 columns)\n",
    "dfrate.iloc[:,:7].shape"
   ]
  },
  {
   "cell_type": "code",
   "execution_count": 8,
   "id": "15c85e3d-715f-4bea-b551-98d1566fdfb6",
   "metadata": {},
   "outputs": [
    {
     "name": "stdout",
     "output_type": "stream",
     "text": [
      "(70, 8)\n"
     ]
    }
   ],
   "source": [
    "# Find matrix A with the first 7 columns of the dataframe\n",
    "# Use hstack to stack arrays next to each other\n",
    "A = np.hstack([np.ones((dfrate.shape[0],1)), dfrate.iloc[:,:7]])\n",
    "print(A.shape)"
   ]
  },
  {
   "cell_type": "code",
   "execution_count": 9,
   "id": "98c3f428-2cb2-4840-aa7b-8846fdd47d45",
   "metadata": {},
   "outputs": [
    {
     "data": {
      "text/plain": [
       "array([-4.27770064e+01, -6.69029754e-03,  4.52455396e+00,  2.65961280e-01,\n",
       "       -3.34880718e-01,  1.47996495e+00,  1.40284500e+00, -2.28659449e+00])"
      ]
     },
     "execution_count": 9,
     "metadata": {},
     "output_type": "execute_result"
    }
   ],
   "source": [
    "# Use the pseudoinverse expression to find the linear regression model\n",
    "x = np.linalg.inv(A.T@A)@A.T@b\n",
    "x"
   ]
  },
  {
   "cell_type": "markdown",
   "id": "3c0ad039-0c90-4930-a049-38d855f9e576",
   "metadata": {},
   "source": [
    "Our linear regression model above has the following parameters:\n",
    "\n",
    "Intercept = -4.27770064e+01\n",
    "\n",
    "Pass Yds Coefficient = -6.69029754e-03\n",
    "\n",
    "Yds/Att Coefficient = 4.52455396e+00\n",
    "\n",
    "Att Coefficient = 2.65961280e-01\n",
    "\n",
    "Cmp Coefficient = -3.34880718e-01\n",
    "\n",
    "Cmp % Coefficient = 1.47996495e+00\n",
    "\n",
    "TD Coefficient = 1.40284500e+00\n",
    "\n",
    "INT Coefficient = -2.28659449e+00"
   ]
  },
  {
   "cell_type": "markdown",
   "id": "911107b3-74c9-4bb2-a257-8250fb5d9ec6",
   "metadata": {},
   "source": [
    "### Repeat the above using the library in sklearn. Provide the model parameters."
   ]
  },
  {
   "cell_type": "code",
   "execution_count": 12,
   "id": "89b3c565-ad1e-4e3a-beb2-00d646885298",
   "metadata": {},
   "outputs": [
    {
     "data": {
      "text/plain": [
       "(-42.777006364868726,\n",
       " array([-0.0066903 ,  4.52455396,  0.26596128, -0.33488072,  1.47996495,\n",
       "         1.402845  , -2.28659449]))"
      ]
     },
     "execution_count": 12,
     "metadata": {},
     "output_type": "execute_result"
    }
   ],
   "source": [
    "from sklearn import linear_model\n",
    "\n",
    "reg = linear_model.LinearRegression()\n",
    "\n",
    "reg.fit(np.array(dfrate.iloc[:,:7]), np.array(dfrate['Rate']))\n",
    "reg.intercept_, reg.coef_"
   ]
  },
  {
   "cell_type": "markdown",
   "id": "f00b2d81-4705-4d2d-9a70-0537dc07c2d3",
   "metadata": {},
   "source": [
    "Our linear regression model above has the following parameters:\n",
    "\n",
    "Intercept = -42.777006364868726\n",
    "\n",
    "Pass Yds Coefficient = -0.0066903\n",
    "\n",
    "Yds/Att Coefficient = 4.52455396\n",
    "\n",
    "Att Coefficient = 0.26596128\n",
    "\n",
    "Cmp Coefficient = -0.33488072\n",
    "\n",
    "Cmp % Coefficient = 1.47996495\n",
    "\n",
    "TD Coefficient = 1.402845\n",
    "\n",
    "INT Coefficient = -2.28659449"
   ]
  },
  {
   "cell_type": "markdown",
   "id": "a395c3ad-f281-4f31-a9e9-7d610a713075",
   "metadata": {},
   "source": [
    "Our linear regression model using the library in sklearn matches the model using the linear algebra approach, therefore we can conclude this is the linear regression model used to predict the rating based on all the available features."
   ]
  },
  {
   "cell_type": "markdown",
   "id": "d80ae3b8-9347-4b0d-a583-f1c6a54f001c",
   "metadata": {},
   "source": [
    "### Make a prediction for each player in QB2022_MLR_test.csv.  Download QB2022_MLR_test.csv and print the result."
   ]
  },
  {
   "cell_type": "code",
   "execution_count": 16,
   "id": "18101f14-0138-436b-a11b-2802888d7ad9",
   "metadata": {},
   "outputs": [
    {
     "data": {
      "text/html": [
       "<div>\n",
       "<style scoped>\n",
       "    .dataframe tbody tr th:only-of-type {\n",
       "        vertical-align: middle;\n",
       "    }\n",
       "\n",
       "    .dataframe tbody tr th {\n",
       "        vertical-align: top;\n",
       "    }\n",
       "\n",
       "    .dataframe thead th {\n",
       "        text-align: right;\n",
       "    }\n",
       "</style>\n",
       "<table border=\"1\" class=\"dataframe\">\n",
       "  <thead>\n",
       "    <tr style=\"text-align: right;\">\n",
       "      <th></th>\n",
       "      <th>Year</th>\n",
       "      <th>Player</th>\n",
       "      <th>Pass Yds</th>\n",
       "      <th>Yds/Att</th>\n",
       "      <th>Att</th>\n",
       "      <th>Cmp</th>\n",
       "      <th>Cmp %</th>\n",
       "      <th>TD</th>\n",
       "      <th>INT</th>\n",
       "      <th>Rate</th>\n",
       "    </tr>\n",
       "  </thead>\n",
       "  <tbody>\n",
       "    <tr>\n",
       "      <th>0</th>\n",
       "      <td>2022</td>\n",
       "      <td>Patrick Mahomes</td>\n",
       "      <td>5250</td>\n",
       "      <td>8.1</td>\n",
       "      <td>648</td>\n",
       "      <td>435</td>\n",
       "      <td>67.1</td>\n",
       "      <td>41</td>\n",
       "      <td>12</td>\n",
       "      <td>105.2</td>\n",
       "    </tr>\n",
       "    <tr>\n",
       "      <th>1</th>\n",
       "      <td>2022</td>\n",
       "      <td>Justin Herbert</td>\n",
       "      <td>4739</td>\n",
       "      <td>6.8</td>\n",
       "      <td>699</td>\n",
       "      <td>477</td>\n",
       "      <td>68.2</td>\n",
       "      <td>25</td>\n",
       "      <td>10</td>\n",
       "      <td>93.2</td>\n",
       "    </tr>\n",
       "    <tr>\n",
       "      <th>2</th>\n",
       "      <td>2022</td>\n",
       "      <td>Tom Brady</td>\n",
       "      <td>4694</td>\n",
       "      <td>6.4</td>\n",
       "      <td>733</td>\n",
       "      <td>490</td>\n",
       "      <td>66.8</td>\n",
       "      <td>25</td>\n",
       "      <td>9</td>\n",
       "      <td>90.7</td>\n",
       "    </tr>\n",
       "    <tr>\n",
       "      <th>3</th>\n",
       "      <td>2022</td>\n",
       "      <td>Kirk Cousins</td>\n",
       "      <td>4547</td>\n",
       "      <td>7.1</td>\n",
       "      <td>643</td>\n",
       "      <td>424</td>\n",
       "      <td>65.9</td>\n",
       "      <td>29</td>\n",
       "      <td>14</td>\n",
       "      <td>92.5</td>\n",
       "    </tr>\n",
       "    <tr>\n",
       "      <th>4</th>\n",
       "      <td>2022</td>\n",
       "      <td>Joe Burrow</td>\n",
       "      <td>4475</td>\n",
       "      <td>7.4</td>\n",
       "      <td>606</td>\n",
       "      <td>414</td>\n",
       "      <td>68.3</td>\n",
       "      <td>35</td>\n",
       "      <td>12</td>\n",
       "      <td>100.8</td>\n",
       "    </tr>\n",
       "  </tbody>\n",
       "</table>\n",
       "</div>"
      ],
      "text/plain": [
       "   Year           Player  Pass Yds  Yds/Att  Att  Cmp  Cmp %  TD  INT   Rate\n",
       "0  2022  Patrick Mahomes      5250      8.1  648  435   67.1  41   12  105.2\n",
       "1  2022   Justin Herbert      4739      6.8  699  477   68.2  25   10   93.2\n",
       "2  2022        Tom Brady      4694      6.4  733  490   66.8  25    9   90.7\n",
       "3  2022     Kirk Cousins      4547      7.1  643  424   65.9  29   14   92.5\n",
       "4  2022       Joe Burrow      4475      7.4  606  414   68.3  35   12  100.8"
      ]
     },
     "execution_count": 16,
     "metadata": {},
     "output_type": "execute_result"
    }
   ],
   "source": [
    "# Read the CSV file\n",
    "dftest = pd.read_csv('QB2022_MLR_test.csv')\n",
    "dftest.head()"
   ]
  },
  {
   "cell_type": "code",
   "execution_count": 17,
   "id": "9b50386f-ca50-4581-9c10-5edc0dbc0471",
   "metadata": {},
   "outputs": [
    {
     "data": {
      "text/html": [
       "<div>\n",
       "<style scoped>\n",
       "    .dataframe tbody tr th:only-of-type {\n",
       "        vertical-align: middle;\n",
       "    }\n",
       "\n",
       "    .dataframe tbody tr th {\n",
       "        vertical-align: top;\n",
       "    }\n",
       "\n",
       "    .dataframe thead th {\n",
       "        text-align: right;\n",
       "    }\n",
       "</style>\n",
       "<table border=\"1\" class=\"dataframe\">\n",
       "  <thead>\n",
       "    <tr style=\"text-align: right;\">\n",
       "      <th></th>\n",
       "      <th>Pass Yds</th>\n",
       "      <th>Yds/Att</th>\n",
       "      <th>Att</th>\n",
       "      <th>Cmp</th>\n",
       "      <th>Cmp %</th>\n",
       "      <th>TD</th>\n",
       "      <th>INT</th>\n",
       "      <th>Rate</th>\n",
       "    </tr>\n",
       "  </thead>\n",
       "  <tbody>\n",
       "    <tr>\n",
       "      <th>0</th>\n",
       "      <td>5250</td>\n",
       "      <td>8.1</td>\n",
       "      <td>648</td>\n",
       "      <td>435</td>\n",
       "      <td>67.1</td>\n",
       "      <td>41</td>\n",
       "      <td>12</td>\n",
       "      <td>105.2</td>\n",
       "    </tr>\n",
       "    <tr>\n",
       "      <th>1</th>\n",
       "      <td>4739</td>\n",
       "      <td>6.8</td>\n",
       "      <td>699</td>\n",
       "      <td>477</td>\n",
       "      <td>68.2</td>\n",
       "      <td>25</td>\n",
       "      <td>10</td>\n",
       "      <td>93.2</td>\n",
       "    </tr>\n",
       "    <tr>\n",
       "      <th>2</th>\n",
       "      <td>4694</td>\n",
       "      <td>6.4</td>\n",
       "      <td>733</td>\n",
       "      <td>490</td>\n",
       "      <td>66.8</td>\n",
       "      <td>25</td>\n",
       "      <td>9</td>\n",
       "      <td>90.7</td>\n",
       "    </tr>\n",
       "    <tr>\n",
       "      <th>3</th>\n",
       "      <td>4547</td>\n",
       "      <td>7.1</td>\n",
       "      <td>643</td>\n",
       "      <td>424</td>\n",
       "      <td>65.9</td>\n",
       "      <td>29</td>\n",
       "      <td>14</td>\n",
       "      <td>92.5</td>\n",
       "    </tr>\n",
       "    <tr>\n",
       "      <th>4</th>\n",
       "      <td>4475</td>\n",
       "      <td>7.4</td>\n",
       "      <td>606</td>\n",
       "      <td>414</td>\n",
       "      <td>68.3</td>\n",
       "      <td>35</td>\n",
       "      <td>12</td>\n",
       "      <td>100.8</td>\n",
       "    </tr>\n",
       "  </tbody>\n",
       "</table>\n",
       "</div>"
      ],
      "text/plain": [
       "   Pass Yds  Yds/Att  Att  Cmp  Cmp %  TD  INT   Rate\n",
       "0      5250      8.1  648  435   67.1  41   12  105.2\n",
       "1      4739      6.8  699  477   68.2  25   10   93.2\n",
       "2      4694      6.4  733  490   66.8  25    9   90.7\n",
       "3      4547      7.1  643  424   65.9  29   14   92.5\n",
       "4      4475      7.4  606  414   68.3  35   12  100.8"
      ]
     },
     "execution_count": 17,
     "metadata": {},
     "output_type": "execute_result"
    }
   ],
   "source": [
    "# Drop the year and player columns\n",
    "dftest= dftest.drop(columns = ['Year', 'Player'])\n",
    "dftest.head()"
   ]
  },
  {
   "cell_type": "code",
   "execution_count": 18,
   "id": "e3af8464-e5f6-464f-a350-f852f927d80b",
   "metadata": {},
   "outputs": [
    {
     "data": {
      "text/plain": [
       "array([114.8007751 ,  95.59226257,  98.98738212,  94.15009489,\n",
       "       106.03957719])"
      ]
     },
     "execution_count": 18,
     "metadata": {},
     "output_type": "execute_result"
    }
   ],
   "source": [
    "# Use sklearn to predict each player's rate\n",
    "pred = reg.predict(np.array(dftest.iloc[:,:7]))\n",
    "pred"
   ]
  },
  {
   "cell_type": "markdown",
   "id": "d8220e2e-af6c-456b-82de-8a44776ef2b3",
   "metadata": {},
   "source": [
    "Patrick Mahomes has a predicted rating of 114.8007751\n",
    "\n",
    "Justin Herbert has a predicted rating of 95.59226257\n",
    "\n",
    "Tom Brady has a predicted rating of 98.98738212\n",
    "\n",
    "Kirk Cousins has a predicted rating of 94.15009489\n",
    "\n",
    "Joe Burrow has a predicted rating of 106.03957719"
   ]
  },
  {
   "cell_type": "markdown",
   "id": "b159b698-6eb0-4ba7-bf51-3e6cc7532d6e",
   "metadata": {},
   "source": [
    "### Calculate MSE for the data points you made a prediction for."
   ]
  },
  {
   "cell_type": "code",
   "execution_count": 21,
   "id": "a303a8e8-4840-4d06-824c-4c61f9be8bd3",
   "metadata": {},
   "outputs": [
    {
     "data": {
      "text/plain": [
       "array([105.2,  93.2,  90.7,  92.5, 100.8])"
      ]
     },
     "execution_count": 21,
     "metadata": {},
     "output_type": "execute_result"
    }
   ],
   "source": [
    "# Create an array for the actual rate values\n",
    "actual = np.array(dftest['Rate'])\n",
    "actual"
   ]
  },
  {
   "cell_type": "code",
   "execution_count": 22,
   "id": "1adc9150-51e4-48ab-bb75-08433657fd4a",
   "metadata": {},
   "outputs": [
    {
     "data": {
      "text/plain": [
       "39.35089751300326"
      ]
     },
     "execution_count": 22,
     "metadata": {},
     "output_type": "execute_result"
    }
   ],
   "source": [
    "# Finding the mean square error using sklearn\n",
    "from sklearn.metrics import mean_squared_error\n",
    "mse = mean_squared_error(pred, actual)\n",
    "mse"
   ]
  },
  {
   "cell_type": "markdown",
   "id": "f0538c17-e336-412b-8eda-7166ecc8a48f",
   "metadata": {},
   "source": [
    "The mean squared error for the predicted ratings is 39.35089751300326"
   ]
  },
  {
   "cell_type": "markdown",
   "id": "6eea3b7a-667c-42e1-9134-6206dc750758",
   "metadata": {},
   "source": [
    "## PART 2: Feature Engineering"
   ]
  },
  {
   "cell_type": "markdown",
   "id": "0070d395-34da-4b7f-b074-5d8d5a295350",
   "metadata": {},
   "source": [
    "### Create a new feature called \"Cmp/Att\" that is the ratio of completions to number of attempts. Use the Cmp and Att columns to calculate the new feature."
   ]
  },
  {
   "cell_type": "code",
   "execution_count": 26,
   "id": "01f5b9ee-9ad0-4145-a72e-3111f392f7e0",
   "metadata": {},
   "outputs": [
    {
     "data": {
      "text/html": [
       "<div>\n",
       "<style scoped>\n",
       "    .dataframe tbody tr th:only-of-type {\n",
       "        vertical-align: middle;\n",
       "    }\n",
       "\n",
       "    .dataframe tbody tr th {\n",
       "        vertical-align: top;\n",
       "    }\n",
       "\n",
       "    .dataframe thead th {\n",
       "        text-align: right;\n",
       "    }\n",
       "</style>\n",
       "<table border=\"1\" class=\"dataframe\">\n",
       "  <thead>\n",
       "    <tr style=\"text-align: right;\">\n",
       "      <th></th>\n",
       "      <th>Pass Yds</th>\n",
       "      <th>Yds/Att</th>\n",
       "      <th>Att</th>\n",
       "      <th>Cmp</th>\n",
       "      <th>Cmp %</th>\n",
       "      <th>TD</th>\n",
       "      <th>INT</th>\n",
       "      <th>Rate</th>\n",
       "      <th>Cmp/Att</th>\n",
       "    </tr>\n",
       "  </thead>\n",
       "  <tbody>\n",
       "    <tr>\n",
       "      <th>0</th>\n",
       "      <td>4438</td>\n",
       "      <td>7.6</td>\n",
       "      <td>587</td>\n",
       "      <td>382</td>\n",
       "      <td>65.1</td>\n",
       "      <td>29</td>\n",
       "      <td>7</td>\n",
       "      <td>99.3</td>\n",
       "      <td>0.650767</td>\n",
       "    </tr>\n",
       "    <tr>\n",
       "      <th>1</th>\n",
       "      <td>4283</td>\n",
       "      <td>7.6</td>\n",
       "      <td>567</td>\n",
       "      <td>359</td>\n",
       "      <td>63.3</td>\n",
       "      <td>35</td>\n",
       "      <td>14</td>\n",
       "      <td>96.6</td>\n",
       "      <td>0.633157</td>\n",
       "    </tr>\n",
       "    <tr>\n",
       "      <th>2</th>\n",
       "      <td>4282</td>\n",
       "      <td>7.5</td>\n",
       "      <td>572</td>\n",
       "      <td>399</td>\n",
       "      <td>69.8</td>\n",
       "      <td>30</td>\n",
       "      <td>11</td>\n",
       "      <td>100.9</td>\n",
       "      <td>0.697552</td>\n",
       "    </tr>\n",
       "    <tr>\n",
       "      <th>3</th>\n",
       "      <td>4113</td>\n",
       "      <td>7.0</td>\n",
       "      <td>584</td>\n",
       "      <td>387</td>\n",
       "      <td>66.3</td>\n",
       "      <td>25</td>\n",
       "      <td>8</td>\n",
       "      <td>95.2</td>\n",
       "      <td>0.662671</td>\n",
       "    </tr>\n",
       "    <tr>\n",
       "      <th>4</th>\n",
       "      <td>3701</td>\n",
       "      <td>8.0</td>\n",
       "      <td>460</td>\n",
       "      <td>306</td>\n",
       "      <td>66.5</td>\n",
       "      <td>22</td>\n",
       "      <td>6</td>\n",
       "      <td>101.6</td>\n",
       "      <td>0.665217</td>\n",
       "    </tr>\n",
       "    <tr>\n",
       "      <th>...</th>\n",
       "      <td>...</td>\n",
       "      <td>...</td>\n",
       "      <td>...</td>\n",
       "      <td>...</td>\n",
       "      <td>...</td>\n",
       "      <td>...</td>\n",
       "      <td>...</td>\n",
       "      <td>...</td>\n",
       "      <td>...</td>\n",
       "    </tr>\n",
       "    <tr>\n",
       "      <th>65</th>\n",
       "      <td>90</td>\n",
       "      <td>6.0</td>\n",
       "      <td>15</td>\n",
       "      <td>10</td>\n",
       "      <td>66.7</td>\n",
       "      <td>0</td>\n",
       "      <td>0</td>\n",
       "      <td>82.6</td>\n",
       "      <td>0.666667</td>\n",
       "    </tr>\n",
       "    <tr>\n",
       "      <th>66</th>\n",
       "      <td>59</td>\n",
       "      <td>11.8</td>\n",
       "      <td>5</td>\n",
       "      <td>3</td>\n",
       "      <td>60.0</td>\n",
       "      <td>0</td>\n",
       "      <td>1</td>\n",
       "      <td>61.7</td>\n",
       "      <td>0.600000</td>\n",
       "    </tr>\n",
       "    <tr>\n",
       "      <th>67</th>\n",
       "      <td>58</td>\n",
       "      <td>7.2</td>\n",
       "      <td>8</td>\n",
       "      <td>6</td>\n",
       "      <td>75.0</td>\n",
       "      <td>1</td>\n",
       "      <td>1</td>\n",
       "      <td>94.8</td>\n",
       "      <td>0.750000</td>\n",
       "    </tr>\n",
       "    <tr>\n",
       "      <th>68</th>\n",
       "      <td>52</td>\n",
       "      <td>4.3</td>\n",
       "      <td>12</td>\n",
       "      <td>8</td>\n",
       "      <td>66.7</td>\n",
       "      <td>1</td>\n",
       "      <td>0</td>\n",
       "      <td>103.5</td>\n",
       "      <td>0.666667</td>\n",
       "    </tr>\n",
       "    <tr>\n",
       "      <th>69</th>\n",
       "      <td>37</td>\n",
       "      <td>6.2</td>\n",
       "      <td>6</td>\n",
       "      <td>5</td>\n",
       "      <td>83.3</td>\n",
       "      <td>0</td>\n",
       "      <td>0</td>\n",
       "      <td>92.4</td>\n",
       "      <td>0.833333</td>\n",
       "    </tr>\n",
       "  </tbody>\n",
       "</table>\n",
       "<p>70 rows × 9 columns</p>\n",
       "</div>"
      ],
      "text/plain": [
       "    Pass Yds  Yds/Att  Att  Cmp  Cmp %  TD  INT   Rate   Cmp/Att\n",
       "0       4438      7.6  587  382   65.1  29    7   99.3  0.650767\n",
       "1       4283      7.6  567  359   63.3  35   14   96.6  0.633157\n",
       "2       4282      7.5  572  399   69.8  30   11  100.9  0.697552\n",
       "3       4113      7.0  584  387   66.3  25    8   95.2  0.662671\n",
       "4       3701      8.0  460  306   66.5  22    6  101.6  0.665217\n",
       "..       ...      ...  ...  ...    ...  ..  ...    ...       ...\n",
       "65        90      6.0   15   10   66.7   0    0   82.6  0.666667\n",
       "66        59     11.8    5    3   60.0   0    1   61.7  0.600000\n",
       "67        58      7.2    8    6   75.0   1    1   94.8  0.750000\n",
       "68        52      4.3   12    8   66.7   1    0  103.5  0.666667\n",
       "69        37      6.2    6    5   83.3   0    0   92.4  0.833333\n",
       "\n",
       "[70 rows x 9 columns]"
      ]
     },
     "execution_count": 26,
     "metadata": {},
     "output_type": "execute_result"
    }
   ],
   "source": [
    "dfrate['Cmp/Att'] = dfrate['Cmp'] / dfrate['Att']\n",
    "dfrate"
   ]
  },
  {
   "cell_type": "markdown",
   "id": "6206c858-fa16-48b0-b7fd-62355c20386f",
   "metadata": {},
   "source": [
    "### Create a new feature called \"TD/Att\" that is the ratio of touchdowns to number of attempts. Use the TD and Att columns to calculate the new feature."
   ]
  },
  {
   "cell_type": "code",
   "execution_count": 28,
   "id": "78e07748-7717-44a2-b3c4-d44726d36c35",
   "metadata": {},
   "outputs": [
    {
     "data": {
      "text/html": [
       "<div>\n",
       "<style scoped>\n",
       "    .dataframe tbody tr th:only-of-type {\n",
       "        vertical-align: middle;\n",
       "    }\n",
       "\n",
       "    .dataframe tbody tr th {\n",
       "        vertical-align: top;\n",
       "    }\n",
       "\n",
       "    .dataframe thead th {\n",
       "        text-align: right;\n",
       "    }\n",
       "</style>\n",
       "<table border=\"1\" class=\"dataframe\">\n",
       "  <thead>\n",
       "    <tr style=\"text-align: right;\">\n",
       "      <th></th>\n",
       "      <th>Pass Yds</th>\n",
       "      <th>Yds/Att</th>\n",
       "      <th>Att</th>\n",
       "      <th>Cmp</th>\n",
       "      <th>Cmp %</th>\n",
       "      <th>TD</th>\n",
       "      <th>INT</th>\n",
       "      <th>Rate</th>\n",
       "      <th>Cmp/Att</th>\n",
       "      <th>TD/Att</th>\n",
       "    </tr>\n",
       "  </thead>\n",
       "  <tbody>\n",
       "    <tr>\n",
       "      <th>0</th>\n",
       "      <td>4438</td>\n",
       "      <td>7.6</td>\n",
       "      <td>587</td>\n",
       "      <td>382</td>\n",
       "      <td>65.1</td>\n",
       "      <td>29</td>\n",
       "      <td>7</td>\n",
       "      <td>99.3</td>\n",
       "      <td>0.650767</td>\n",
       "      <td>0.049404</td>\n",
       "    </tr>\n",
       "    <tr>\n",
       "      <th>1</th>\n",
       "      <td>4283</td>\n",
       "      <td>7.6</td>\n",
       "      <td>567</td>\n",
       "      <td>359</td>\n",
       "      <td>63.3</td>\n",
       "      <td>35</td>\n",
       "      <td>14</td>\n",
       "      <td>96.6</td>\n",
       "      <td>0.633157</td>\n",
       "      <td>0.061728</td>\n",
       "    </tr>\n",
       "    <tr>\n",
       "      <th>2</th>\n",
       "      <td>4282</td>\n",
       "      <td>7.5</td>\n",
       "      <td>572</td>\n",
       "      <td>399</td>\n",
       "      <td>69.8</td>\n",
       "      <td>30</td>\n",
       "      <td>11</td>\n",
       "      <td>100.9</td>\n",
       "      <td>0.697552</td>\n",
       "      <td>0.052448</td>\n",
       "    </tr>\n",
       "    <tr>\n",
       "      <th>3</th>\n",
       "      <td>4113</td>\n",
       "      <td>7.0</td>\n",
       "      <td>584</td>\n",
       "      <td>387</td>\n",
       "      <td>66.3</td>\n",
       "      <td>25</td>\n",
       "      <td>8</td>\n",
       "      <td>95.2</td>\n",
       "      <td>0.662671</td>\n",
       "      <td>0.042808</td>\n",
       "    </tr>\n",
       "    <tr>\n",
       "      <th>4</th>\n",
       "      <td>3701</td>\n",
       "      <td>8.0</td>\n",
       "      <td>460</td>\n",
       "      <td>306</td>\n",
       "      <td>66.5</td>\n",
       "      <td>22</td>\n",
       "      <td>6</td>\n",
       "      <td>101.6</td>\n",
       "      <td>0.665217</td>\n",
       "      <td>0.047826</td>\n",
       "    </tr>\n",
       "    <tr>\n",
       "      <th>...</th>\n",
       "      <td>...</td>\n",
       "      <td>...</td>\n",
       "      <td>...</td>\n",
       "      <td>...</td>\n",
       "      <td>...</td>\n",
       "      <td>...</td>\n",
       "      <td>...</td>\n",
       "      <td>...</td>\n",
       "      <td>...</td>\n",
       "      <td>...</td>\n",
       "    </tr>\n",
       "    <tr>\n",
       "      <th>65</th>\n",
       "      <td>90</td>\n",
       "      <td>6.0</td>\n",
       "      <td>15</td>\n",
       "      <td>10</td>\n",
       "      <td>66.7</td>\n",
       "      <td>0</td>\n",
       "      <td>0</td>\n",
       "      <td>82.6</td>\n",
       "      <td>0.666667</td>\n",
       "      <td>0.000000</td>\n",
       "    </tr>\n",
       "    <tr>\n",
       "      <th>66</th>\n",
       "      <td>59</td>\n",
       "      <td>11.8</td>\n",
       "      <td>5</td>\n",
       "      <td>3</td>\n",
       "      <td>60.0</td>\n",
       "      <td>0</td>\n",
       "      <td>1</td>\n",
       "      <td>61.7</td>\n",
       "      <td>0.600000</td>\n",
       "      <td>0.000000</td>\n",
       "    </tr>\n",
       "    <tr>\n",
       "      <th>67</th>\n",
       "      <td>58</td>\n",
       "      <td>7.2</td>\n",
       "      <td>8</td>\n",
       "      <td>6</td>\n",
       "      <td>75.0</td>\n",
       "      <td>1</td>\n",
       "      <td>1</td>\n",
       "      <td>94.8</td>\n",
       "      <td>0.750000</td>\n",
       "      <td>0.125000</td>\n",
       "    </tr>\n",
       "    <tr>\n",
       "      <th>68</th>\n",
       "      <td>52</td>\n",
       "      <td>4.3</td>\n",
       "      <td>12</td>\n",
       "      <td>8</td>\n",
       "      <td>66.7</td>\n",
       "      <td>1</td>\n",
       "      <td>0</td>\n",
       "      <td>103.5</td>\n",
       "      <td>0.666667</td>\n",
       "      <td>0.083333</td>\n",
       "    </tr>\n",
       "    <tr>\n",
       "      <th>69</th>\n",
       "      <td>37</td>\n",
       "      <td>6.2</td>\n",
       "      <td>6</td>\n",
       "      <td>5</td>\n",
       "      <td>83.3</td>\n",
       "      <td>0</td>\n",
       "      <td>0</td>\n",
       "      <td>92.4</td>\n",
       "      <td>0.833333</td>\n",
       "      <td>0.000000</td>\n",
       "    </tr>\n",
       "  </tbody>\n",
       "</table>\n",
       "<p>70 rows × 10 columns</p>\n",
       "</div>"
      ],
      "text/plain": [
       "    Pass Yds  Yds/Att  Att  Cmp  Cmp %  TD  INT   Rate   Cmp/Att    TD/Att\n",
       "0       4438      7.6  587  382   65.1  29    7   99.3  0.650767  0.049404\n",
       "1       4283      7.6  567  359   63.3  35   14   96.6  0.633157  0.061728\n",
       "2       4282      7.5  572  399   69.8  30   11  100.9  0.697552  0.052448\n",
       "3       4113      7.0  584  387   66.3  25    8   95.2  0.662671  0.042808\n",
       "4       3701      8.0  460  306   66.5  22    6  101.6  0.665217  0.047826\n",
       "..       ...      ...  ...  ...    ...  ..  ...    ...       ...       ...\n",
       "65        90      6.0   15   10   66.7   0    0   82.6  0.666667  0.000000\n",
       "66        59     11.8    5    3   60.0   0    1   61.7  0.600000  0.000000\n",
       "67        58      7.2    8    6   75.0   1    1   94.8  0.750000  0.125000\n",
       "68        52      4.3   12    8   66.7   1    0  103.5  0.666667  0.083333\n",
       "69        37      6.2    6    5   83.3   0    0   92.4  0.833333  0.000000\n",
       "\n",
       "[70 rows x 10 columns]"
      ]
     },
     "execution_count": 28,
     "metadata": {},
     "output_type": "execute_result"
    }
   ],
   "source": [
    "dfrate['TD/Att'] = dfrate['TD'] / dfrate['Att']\n",
    "dfrate"
   ]
  },
  {
   "cell_type": "markdown",
   "id": "85fc7265-af36-4172-a6ff-11cde6452779",
   "metadata": {},
   "source": [
    "### Use sklearn to create a multiple linear regression model that would predict the rating based on 3 features: \"Yds/Att\", \"Cmp/Att\", and \"TD/Att\". Provide the model parameters."
   ]
  },
  {
   "cell_type": "code",
   "execution_count": 30,
   "id": "64573801-1e77-404b-ab57-7576098c4f45",
   "metadata": {},
   "outputs": [
    {
     "data": {
      "text/plain": [
       "(-22.431076218617463, array([  3.28389874, 110.49147089, 365.44531551]))"
      ]
     },
     "execution_count": 30,
     "metadata": {},
     "output_type": "execute_result"
    }
   ],
   "source": [
    "reg_1 = linear_model.LinearRegression()\n",
    "reg_1.fit(np.array(dfrate[['Yds/Att','Cmp/Att','TD/Att']]), \n",
    "          np.array(dfrate['Rate']))\n",
    "reg_1.intercept_, reg_1.coef_"
   ]
  },
  {
   "cell_type": "markdown",
   "id": "231aa92a-6f24-4058-8f69-088319095005",
   "metadata": {},
   "source": [
    "### Calculate the MSE of this model for the test set. What is MSE of the new model?\r\n"
   ]
  },
  {
   "cell_type": "code",
   "execution_count": 32,
   "id": "c3fff13f-8415-48fb-a374-091b250d9d89",
   "metadata": {},
   "outputs": [
    {
     "data": {
      "text/plain": [
       "array([101.46333041,  88.36948459,  84.91186976,  90.22565899,\n",
       "        98.4606243 ])"
      ]
     },
     "execution_count": 32,
     "metadata": {},
     "output_type": "execute_result"
    }
   ],
   "source": [
    "# Create new features for dftest, then find predicted rate\n",
    "dftest['Cmp/Att'] = dftest['Cmp'] / dftest['Att']\n",
    "dftest['TD/Att'] = dftest['TD'] / dftest['Att']\n",
    "pred = reg_1.predict(np.array(dftest[['Yds/Att','Cmp/Att','TD/Att']]))\n",
    "pred"
   ]
  },
  {
   "cell_type": "code",
   "execution_count": 33,
   "id": "44e49aae-52f8-4464-a388-563051783f68",
   "metadata": {},
   "outputs": [
    {
     "data": {
      "text/plain": [
       "16.28886722823315"
      ]
     },
     "execution_count": 33,
     "metadata": {},
     "output_type": "execute_result"
    }
   ],
   "source": [
    "# find the mean square error\n",
    "actual = np.array(dftest['Rate'])\n",
    "mean_squared_error(pred, actual)"
   ]
  },
  {
   "cell_type": "markdown",
   "id": "b7d6647e-35af-4923-aba8-c7aca8112a35",
   "metadata": {},
   "source": [
    "The MSE of the new model is 16.288867228232995."
   ]
  },
  {
   "cell_type": "markdown",
   "id": "67265d16-f9a0-417c-ad80-a9440a566355",
   "metadata": {},
   "source": [
    "### Which model performs better? The one with more input features or the ones with fewer input features?"
   ]
  },
  {
   "cell_type": "markdown",
   "id": "481fe114-edf5-4148-814e-e829f1226266",
   "metadata": {},
   "source": [
    "The ones with fewer input features is better."
   ]
  }
 ],
 "metadata": {
  "kernelspec": {
   "display_name": "Python 3 (ipykernel)",
   "language": "python",
   "name": "python3"
  },
  "language_info": {
   "codemirror_mode": {
    "name": "ipython",
    "version": 3
   },
   "file_extension": ".py",
   "mimetype": "text/x-python",
   "name": "python",
   "nbconvert_exporter": "python",
   "pygments_lexer": "ipython3",
   "version": "3.12.4"
  }
 },
 "nbformat": 4,
 "nbformat_minor": 5
}
